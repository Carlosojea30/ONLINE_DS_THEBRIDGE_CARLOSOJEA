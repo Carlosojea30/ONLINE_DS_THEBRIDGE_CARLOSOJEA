{
 "cells": [
  {
   "cell_type": "markdown",
   "id": "d05c2584-3d00-4962-aaba-ec70782cf344",
   "metadata": {},
   "source": [
    "# Operaciones Aritmeticas y comparativas"
   ]
  },
  {
   "cell_type": "code",
   "execution_count": 2,
   "id": "2b712f58-c637-48db-bdc1-70759da7e2fc",
   "metadata": {},
   "outputs": [
    {
     "name": "stdout",
     "output_type": "stream",
     "text": [
      "17.34\n",
      "<class 'float'>\n",
      "61.7 <class 'float'>\n",
      "421978042.82945716 <class 'float'>\n",
      "0.4051863857374392 \n",
      " 5.0 \n",
      " 0.0\n"
     ]
    }
   ],
   "source": [
    "entero = 5\n",
    "real = 12.34\n",
    "suma_vars = entero + real \n",
    "print(suma_vars)\n",
    "print(type(suma_vars))\n",
    "multiplica_vars = entero * real\n",
    "print(multiplica_vars, type(multiplica_vars))\n",
    "potencia = entero ** real\n",
    "print(potencia, type(potencia))\n",
    "division_vars = entero/real\n",
    "cociente= entero // real\n",
    "resto = entero % real\n",
    "print(division_vars, \"\\n\", resto, \"\\n\", cociente)"
   ]
  },
  {
   "cell_type": "markdown",
   "id": "3c110dc4-f9db-406c-ae33-3b833195ead8",
   "metadata": {},
   "source": [
    "## Propiedad conmitativa, asociativa, distributiva "
   ]
  },
  {
   "cell_type": "code",
   "execution_count": 3,
   "id": "43fa30ff-b41d-40ea-a902-36e4131c6976",
   "metadata": {},
   "outputs": [
    {
     "name": "stdout",
     "output_type": "stream",
     "text": [
      "Conmutativa\n",
      "6\n",
      "6\n"
     ]
    }
   ],
   "source": [
    "print(\"Conmutativa\")\n",
    "print( 2 * 3)\n",
    "print( 3 * 2)"
   ]
  },
  {
   "cell_type": "code",
   "execution_count": 5,
   "id": "334dacb9-07b7-41b1-aee5-3187eaa3b33f",
   "metadata": {},
   "outputs": [
    {
     "name": "stdout",
     "output_type": "stream",
     "text": [
      "Asociativa\n",
      "30\n",
      "30\n"
     ]
    }
   ],
   "source": [
    "print(\"Asociativa\")\n",
    "print((2 * 3)*5)\n",
    "print(3 * (2*5))"
   ]
  },
  {
   "cell_type": "code",
   "execution_count": 6,
   "id": "b431d67a-b534-4910-95e7-adbe80a23478",
   "metadata": {},
   "outputs": [
    {
     "name": "stdout",
     "output_type": "stream",
     "text": [
      "Distributiva\n",
      "16\n",
      "16\n"
     ]
    }
   ],
   "source": [
    "print(\"Distributiva\")\n",
    "print(2*(3+5))\n",
    "print(2*3+2*5)"
   ]
  },
  {
   "cell_type": "markdown",
   "id": "de961022-1b5e-42d6-9c01-e788cf274a6a",
   "metadata": {},
   "source": [
    "## Operaciones más complejas (link)"
   ]
  },
  {
   "cell_type": "markdown",
   "id": "a5660e13-7ca0-4cdb-8951-ca52c8b4cf78",
   "metadata": {},
   "source": [
    "https://docs.python.org/3/library/math.html"
   ]
  },
  {
   "cell_type": "code",
   "execution_count": 8,
   "id": "d144ed52-dffb-40b4-bbf3-bba3bce88f1f",
   "metadata": {},
   "outputs": [
    {
     "name": "stdout",
     "output_type": "stream",
     "text": [
      "5.0\n",
      "1.0\n",
      "123.45\n"
     ]
    }
   ],
   "source": [
    "import math \n",
    "print(math.sqrt(25))\n",
    "print(math.cos(0))\n",
    "print(math.fabs(-123.45)) #abs"
   ]
  },
  {
   "cell_type": "code",
   "execution_count": 9,
   "id": "07c1670b-bd96-45c9-916f-f05264fc1514",
   "metadata": {},
   "outputs": [
    {
     "ename": "ZeroDivisionError",
     "evalue": "division by zero",
     "output_type": "error",
     "traceback": [
      "\u001b[31m---------------------------------------------------------------------------\u001b[39m",
      "\u001b[31mZeroDivisionError\u001b[39m                         Traceback (most recent call last)",
      "\u001b[36mCell\u001b[39m\u001b[36m \u001b[39m\u001b[32mIn[9]\u001b[39m\u001b[32m, line 1\u001b[39m\n\u001b[32m----> \u001b[39m\u001b[32m1\u001b[39m \u001b[32;43m4\u001b[39;49m\u001b[43m/\u001b[49m\u001b[32;43m0\u001b[39;49m\n",
      "\u001b[31mZeroDivisionError\u001b[39m: division by zero"
     ]
    }
   ],
   "source": [
    "4/0"
   ]
  },
  {
   "cell_type": "code",
   "execution_count": 11,
   "id": "022c8f6b-0fbd-4376-9f5c-ff7ec5622ad2",
   "metadata": {},
   "outputs": [
    {
     "ename": "ValueError",
     "evalue": "math domain error",
     "output_type": "error",
     "traceback": [
      "\u001b[31m---------------------------------------------------------------------------\u001b[39m",
      "\u001b[31mValueError\u001b[39m                                Traceback (most recent call last)",
      "\u001b[36mCell\u001b[39m\u001b[36m \u001b[39m\u001b[32mIn[11]\u001b[39m\u001b[32m, line 1\u001b[39m\n\u001b[32m----> \u001b[39m\u001b[32m1\u001b[39m \u001b[43mmath\u001b[49m\u001b[43m.\u001b[49m\u001b[43msqrt\u001b[49m\u001b[43m(\u001b[49m\u001b[43m-\u001b[49m\u001b[32;43m12\u001b[39;49m\u001b[43m)\u001b[49m\n",
      "\u001b[31mValueError\u001b[39m: math domain error"
     ]
    }
   ],
   "source": [
    "math.sqrt(-12)"
   ]
  },
  {
   "cell_type": "code",
   "execution_count": 12,
   "id": "c4ca9755-28d5-41aa-816c-ec190141bf09",
   "metadata": {},
   "outputs": [
    {
     "name": "stdout",
     "output_type": "stream",
     "text": [
      "1\n",
      "False\n"
     ]
    }
   ],
   "source": [
    "# Asignacion\n",
    "asign = 1\n",
    "print(asign)\n",
    "\n",
    "# Comparación)\n",
    "print(asign == 5)"
   ]
  },
  {
   "cell_type": "code",
   "execution_count": 13,
   "id": "f1ed696f-a155-4afa-ac39-451f55c88ad6",
   "metadata": {},
   "outputs": [
    {
     "name": "stdout",
     "output_type": "stream",
     "text": [
      "False\n"
     ]
    }
   ],
   "source": [
    "print(\"AAA\" == \"BBB\")"
   ]
  },
  {
   "cell_type": "code",
   "execution_count": 15,
   "id": "3429441d-ded3-4deb-be25-9e423bc6ef92",
   "metadata": {},
   "outputs": [
    {
     "name": "stdout",
     "output_type": "stream",
     "text": [
      "False\n"
     ]
    }
   ],
   "source": [
    "print(\"17\" >=\"23\")"
   ]
  },
  {
   "cell_type": "markdown",
   "id": "c055b485-2ea7-42dc-b681-fa4b47f1b534",
   "metadata": {},
   "source": [
    "# Operaciones con booleanos"
   ]
  },
  {
   "cell_type": "markdown",
   "id": "a6cfee59-5397-407a-aca0-e532ba4544dc",
   "metadata": {},
   "source": [
    "### Ejemplo práctico"
   ]
  },
  {
   "cell_type": "code",
   "execution_count": 2,
   "id": "2be7cf35-e0b8-4887-bf88-d3f2c7c6cccf",
   "metadata": {},
   "outputs": [],
   "source": [
    "# Primer ordenador\n",
    "ram1 = 32\n",
    "process1 = \"i5\"\n",
    "disco1 = 500\n",
    "precio1 = 850 \n",
    "\n",
    "# Segundo ordenador\n",
    "ram2 = 8\n",
    "process2 = \"i5\"\n",
    "disco2 = 500\n",
    "precio2 = 600\n",
    "\n",
    "# Tercer ordenador \n",
    "ram3 = 32\n",
    "process3 = \"i3\"\n",
    "disco3 = 500\n",
    "precio3 = 780"
   ]
  },
  {
   "cell_type": "markdown",
   "id": "afdf8a1b-bedc-4bae-ac02-b6c45c373ffa",
   "metadata": {},
   "source": [
    "#### Primero vemos si las condiciones se cumplen con el primer ordenador"
   ]
  },
  {
   "cell_type": "markdown",
   "id": "1b0edd1d-3ac9-4c7b-abbd-0cc9da2d06a8",
   "metadata": {},
   "source": [
    "#### Primero vamos a ver si se cumplen las condiciones con el 1º ordenador"
   ]
  },
  {
   "cell_type": "code",
   "execution_count": 4,
   "id": "3a799b0f-c5e3-4307-9dc1-07099ebcbf50",
   "metadata": {},
   "outputs": [
    {
     "name": "stdout",
     "output_type": "stream",
     "text": [
      "False True False False\n"
     ]
    }
   ],
   "source": [
    "cond_ram1 = (ram1 == 16 or ram1 == 32 or ram1 == 64)\n",
    "cond_process1 = (process1 == \"i3\" and disco1 == 500)\n",
    "cond_precio1 = (precio1 < 800)\n",
    "cond_total1 = cond_ram1 and cond_process1 and cond_precio1\n",
    "print(cond_total1, cond_ram1, cond_process1, cond_precio1)"
   ]
  },
  {
   "cell_type": "markdown",
   "id": "09647169-f60f-403a-8325-56a171b3a35f",
   "metadata": {},
   "source": [
    "#### Ahora con el segundo y tercero"
   ]
  },
  {
   "cell_type": "code",
   "execution_count": 5,
   "id": "4d371c1f-30ec-489f-99cc-2c47bf7f5f9f",
   "metadata": {},
   "outputs": [
    {
     "name": "stdout",
     "output_type": "stream",
     "text": [
      "False False False True\n"
     ]
    }
   ],
   "source": [
    "cond_ram2 = (ram2 == 16 or ram2 == 32 or ram2 == 64)\n",
    "cond_process2 = (process2 == \"i3\" and disco2 == 500)\n",
    "cond_precio2 = (precio2 < 800)\n",
    "cond_total2 = cond_ram2 and cond_process2 and cond_precio2\n",
    "print(cond_total2, cond_ram2, cond_process2, cond_precio2)"
   ]
  },
  {
   "cell_type": "code",
   "execution_count": 6,
   "id": "3b4e87db-2477-436c-b939-bb0553943f1c",
   "metadata": {},
   "outputs": [
    {
     "name": "stdout",
     "output_type": "stream",
     "text": [
      "True True True True\n"
     ]
    }
   ],
   "source": [
    "cond_ram3 = (ram3 == 16 or ram3 == 32 or ram3 == 64)\n",
    "cond_process3 = (process3 == \"i3\" and disco3 == 500)\n",
    "cond_precio3 = (precio3 < 800)\n",
    "cond_total3 = cond_ram3 and cond_process3 and cond_precio3\n",
    "print(cond_total3, cond_ram3, cond_process3, cond_precio3)"
   ]
  },
  {
   "cell_type": "code",
   "execution_count": null,
   "id": "63ca6505-5827-4b18-b6be-778b6ce42151",
   "metadata": {},
   "outputs": [],
   "source": []
  }
 ],
 "metadata": {
  "kernelspec": {
   "display_name": "Python 3 (ipykernel)",
   "language": "python",
   "name": "python3"
  },
  "language_info": {
   "codemirror_mode": {
    "name": "ipython",
    "version": 3
   },
   "file_extension": ".py",
   "mimetype": "text/x-python",
   "name": "python",
   "nbconvert_exporter": "python",
   "pygments_lexer": "ipython3",
   "version": "3.13.7"
  }
 },
 "nbformat": 4,
 "nbformat_minor": 5
}
