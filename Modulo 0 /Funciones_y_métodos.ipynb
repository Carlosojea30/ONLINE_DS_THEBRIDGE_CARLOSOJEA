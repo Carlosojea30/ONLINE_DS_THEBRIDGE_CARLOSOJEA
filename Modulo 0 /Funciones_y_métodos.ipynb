{
 "cells": [
  {
   "cell_type": "markdown",
   "id": "79e31134-046a-430c-ba3e-fc13f2c306a1",
   "metadata": {},
   "source": [
    "# Funciones"
   ]
  },
  {
   "cell_type": "markdown",
   "id": "43456e73-6cf9-457d-b63e-b9d3009f839b",
   "metadata": {},
   "source": [
    "#### Ejemplos"
   ]
  },
  {
   "cell_type": "code",
   "execution_count": 2,
   "id": "59568c13-bfce-4b9b-a4c4-a9ba26dedca0",
   "metadata": {},
   "outputs": [
    {
     "name": "stdout",
     "output_type": "stream",
     "text": [
      "33\n",
      "25\n"
     ]
    }
   ],
   "source": [
    "print(len(\"Esto es una cadena de longitud...\"))\n",
    "print(max((1,12,13,24,25,6)))"
   ]
  },
  {
   "cell_type": "code",
   "execution_count": 11,
   "id": "c3177d73-b7f2-4a48-b457-1ed62f30539c",
   "metadata": {},
   "outputs": [
    {
     "name": "stdout",
     "output_type": "stream",
     "text": [
      "La longitud de esta cadena es**test**29**test**y no es un float\n"
     ]
    }
   ],
   "source": [
    "cadena = \"La longitud de esta cadena es\" \n",
    "print(cadena,len(cadena), \"y no es un float\", sep = \"**test**\")"
   ]
  },
  {
   "cell_type": "markdown",
   "id": "824b6375-026d-4667-8935-15b40d2bc52b",
   "metadata": {},
   "source": [
    "### Métodos"
   ]
  },
  {
   "cell_type": "markdown",
   "id": "3a50904d-0ad9-4c0a-a14b-9a5c2fc446dd",
   "metadata": {},
   "source": [
    "#### String"
   ]
  },
  {
   "cell_type": "code",
   "execution_count": 24,
   "id": "655043ce-a2c2-45a4-a6b8-f9585b699e61",
   "metadata": {},
   "outputs": [
    {
     "name": "stdout",
     "output_type": "stream",
     "text": [
      "STRING EN MINUSCULAS\n",
      "esto es un ejemplo diferente\n",
      "esto es un ejemplo diferente\n",
      "ctring en minucculac\n",
      "string en mayusculas\n",
      "tring en minucula\n",
      "['Esto se va a ', ' en una lista de strings']\n",
      "10\n"
     ]
    }
   ],
   "source": [
    "string_ejemplo = \"string en minusculas\"\n",
    "# Para ponerlo todo en mayusculas\n",
    "print(string_ejemplo.upper())\n",
    "\n",
    "# Todo en minúsculas. 2 métodos\n",
    "print(\"ESTO ES UN EJEMPLO DIFERENTE\".lower())\n",
    "string_ejemplo_2 = \"ESTO ES UN EJEMPLO DIFERENTE\"\n",
    "print(string_ejemplo_2.lower())\n",
    "\n",
    "# Remplazar caracteres\n",
    "print(string_ejemplo.replace(\"s\",\"c\"))\n",
    "print(string_ejemplo.replace(\"minusculas\", \"mayusculas\"))\n",
    "print(string_ejemplo.replace(\"s\",\"\"))\n",
    "\n",
    "# Método para convertir string en una lista\n",
    "print(\"Esto se va a convertir en una lista de strings\".split(\"convertir\"))\n",
    "\n",
    "# Método para conocer la posición dentro de un String, siempre empezamos en 0 \n",
    "print(string_ejemplo.index(\"m\"))"
   ]
  },
  {
   "cell_type": "markdown",
   "id": "bcac4f3c-820c-4e44-9b12-293aedffed34",
   "metadata": {},
   "source": [
    "#### Errores"
   ]
  },
  {
   "cell_type": "code",
   "execution_count": 26,
   "id": "baed1b1e-58c4-4f29-b99f-c129efc0fca9",
   "metadata": {},
   "outputs": [
    {
     "ename": "TypeError",
     "evalue": "replace() takes at least 2 positional arguments (1 given)",
     "output_type": "error",
     "traceback": [
      "\u001b[31m---------------------------------------------------------------------------\u001b[39m",
      "\u001b[31mTypeError\u001b[39m                                 Traceback (most recent call last)",
      "\u001b[36mCell\u001b[39m\u001b[36m \u001b[39m\u001b[32mIn[26]\u001b[39m\u001b[32m, line 1\u001b[39m\n\u001b[32m----> \u001b[39m\u001b[32m1\u001b[39m \u001b[43mstring_ejemplo\u001b[49m\u001b[43m.\u001b[49m\u001b[43mreplace\u001b[49m\u001b[43m(\u001b[49m\u001b[33;43m\"\u001b[39;49m\u001b[33;43m,\u001b[39;49m\u001b[33;43m\"\u001b[39;49m\u001b[43m)\u001b[49m\n",
      "\u001b[31mTypeError\u001b[39m: replace() takes at least 2 positional arguments (1 given)"
     ]
    }
   ],
   "source": [
    "string_ejemplo.replace(\",\")"
   ]
  },
  {
   "cell_type": "markdown",
   "id": "693bc58b-1081-49f3-8b75-d8ad544ed313",
   "metadata": {},
   "source": [
    "# Listas"
   ]
  },
  {
   "cell_type": "code",
   "execution_count": 28,
   "id": "9322fea0-64db-45f5-959a-9da548b270af",
   "metadata": {},
   "outputs": [
    {
     "name": "stdout",
     "output_type": "stream",
     "text": [
      "[1, 3, 5, 6]\n",
      "<class 'list'>\n",
      "['Esto', 'es', 'una', 'lista']\n"
     ]
    }
   ],
   "source": [
    "# Corchetes muy importantes\n",
    "# Lista de números \n",
    "numeros = [1, 3, 5, 6]\n",
    "print(numeros)\n",
    "print(type(numeros))\n",
    "\n",
    "#Lista de Strings\n",
    "strings = [\"Esto\", \"es\", \"una\", \"lista\"]\n",
    "print(strings)\n",
    "\n",
    "#Tambien podemos hacerla de booleanos "
   ]
  },
  {
   "cell_type": "code",
   "execution_count": 34,
   "id": "abf05611-d34c-4eb6-acca-ffac4b0ed66b",
   "metadata": {},
   "outputs": [
    {
     "name": "stdout",
     "output_type": "stream",
     "text": [
      "['Esto es', 12, -34.5, True, False, 'lista']\n",
      "['Hola', 12, True, ['Adiós', 56, False]]\n"
     ]
    }
   ],
   "source": [
    "# Lista de tipos mezclados\n",
    "mix = [\"Esto es\", 12, -34.5, True, False, \"lista\"]\n",
    "print(mix)\n",
    "\n",
    "#Lista dentro de listas\n",
    "listas = [\"Hola\", 12, True, [\"Adiós\", 56, False]]\n",
    "print(listas)"
   ]
  },
  {
   "cell_type": "code",
   "execution_count": 37,
   "id": "a1aca319-f533-41ea-a6cc-1873365c521d",
   "metadata": {},
   "outputs": [
    {
     "data": {
      "text/plain": [
       "4"
      ]
     },
     "execution_count": 37,
     "metadata": {},
     "output_type": "execute_result"
    }
   ],
   "source": [
    "len(listas)"
   ]
  },
  {
   "cell_type": "code",
   "execution_count": 38,
   "id": "d1244cbe-7975-4831-bc64-2dbeaec77702",
   "metadata": {},
   "outputs": [
    {
     "data": {
      "text/plain": [
       "6"
      ]
     },
     "execution_count": 38,
     "metadata": {},
     "output_type": "execute_result"
    }
   ],
   "source": [
    "len(mix)"
   ]
  },
  {
   "cell_type": "code",
   "execution_count": 39,
   "id": "73644232-228e-46d3-9824-561e61d907af",
   "metadata": {},
   "outputs": [
    {
     "name": "stdout",
     "output_type": "stream",
     "text": [
      "['Esto es', 12, -34.5, True, False, 'lista', 'Hola', 12, True, ['Adiós', 56, False]]\n",
      "<class 'list'>\n"
     ]
    }
   ],
   "source": [
    "concatenacion = mix + listas\n",
    "print(concatenacion)\n",
    "print(type(concatenacion))"
   ]
  },
  {
   "cell_type": "code",
   "execution_count": 41,
   "id": "ee829c6f-62e7-4852-bef7-a56465a9a6aa",
   "metadata": {},
   "outputs": [
    {
     "name": "stdout",
     "output_type": "stream",
     "text": [
      "esto\n",
      "patata\n"
     ]
    }
   ],
   "source": [
    "lista_ejemplo = [\"esto\", 2, 3, \"patata\"]\n",
    "print(lista_ejemplo[0])\n",
    "print(lista_ejemplo[-1])"
   ]
  },
  {
   "cell_type": "code",
   "execution_count": 54,
   "id": "40dbab65-db1e-4869-9f39-68f582217309",
   "metadata": {},
   "outputs": [
    {
     "name": "stdout",
     "output_type": "stream",
     "text": [
      "['fisica', 'quimica', 'mates', 'sociales']\n",
      "['fisica', 'quimica', 'mates', 'sociales', 'filo']\n",
      "['fisica', 'quimica', 'dibujo', 'mates', 'sociales', 'filo']\n",
      "['fisica', 'dibujo', 'mates', 'sociales', 'filo']\n",
      "['fisica', 'dibujo', 'mates', 'sociales']\n",
      "['dibujo', 'fisica', 'mates', 'sociales']\n"
     ]
    }
   ],
   "source": [
    "asignaturas = [\"fisica\", \"quimica\", \"mates\", \"sociales\"]\n",
    "print(asignaturas)\n",
    "\n",
    "#Añadir elemento\n",
    "asignaturas.append(\"filo\")\n",
    "print(asignaturas)\n",
    "\n",
    "#Añadir en una posición determinada\n",
    "asignaturas.insert(2,\"dibujo\")\n",
    "print(asignaturas)\n",
    "\n",
    "#Quitar elementos\n",
    "#asignaturas.clear()\n",
    "#print(asignaturas)\n",
    "\n",
    "#Quitar elementos por su posicion \n",
    "asignaturas.pop(1)\n",
    "print(asignaturas)\n",
    "\n",
    "#Quitamos elementos por su valor\n",
    "asignaturas.remove(\"filo\")\n",
    "print(asignaturas)\n",
    "\n",
    "#Ordenar la lista\n",
    "asignaturas.sort()\n",
    "print(asignaturas)"
   ]
  },
  {
   "cell_type": "code",
   "execution_count": null,
   "id": "c62e6aaf-c58f-4414-86ed-c7cf3226ca7b",
   "metadata": {},
   "outputs": [],
   "source": []
  }
 ],
 "metadata": {
  "kernelspec": {
   "display_name": "Python 3 (ipykernel)",
   "language": "python",
   "name": "python3"
  },
  "language_info": {
   "codemirror_mode": {
    "name": "ipython",
    "version": 3
   },
   "file_extension": ".py",
   "mimetype": "text/x-python",
   "name": "python",
   "nbconvert_exporter": "python",
   "pygments_lexer": "ipython3",
   "version": "3.13.7"
  }
 },
 "nbformat": 4,
 "nbformat_minor": 5
}
