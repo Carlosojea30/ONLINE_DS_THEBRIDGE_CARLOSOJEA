{
 "cells": [
  {
   "cell_type": "markdown",
   "id": "9c3e3e0f-9bda-4285-a55e-dc6c31e274b9",
   "metadata": {},
   "source": [
    "# Listas, Tuplas y Colecciones "
   ]
  },
  {
   "cell_type": "markdown",
   "id": "b5cb3be2-8e07-4d24-9af6-bb1038f1692d",
   "metadata": {},
   "source": [
    "## Listas"
   ]
  },
  {
   "cell_type": "code",
   "execution_count": 1,
   "id": "4d62334b-e514-40d0-9e69-3a4fc1c7bcb2",
   "metadata": {},
   "outputs": [],
   "source": [
    "nums = [6, 2, 8, 3, 4, 5, 5]\n",
    "months = [\"Enero\", \"Febrero\", \"Marzo\"]\n",
    "mix = [5, 7, \"Abril\", True, None, [\"Blanco\", \"Negro\"]]"
   ]
  },
  {
   "cell_type": "code",
   "execution_count": 3,
   "id": "c8c6d961-4029-43eb-be45-ceb6c27fe0a5",
   "metadata": {},
   "outputs": [
    {
     "name": "stdout",
     "output_type": "stream",
     "text": [
      "Enero\n",
      "Febrero\n"
     ]
    }
   ],
   "source": [
    "print(months[0])\n",
    "print(months[-2])"
   ]
  },
  {
   "cell_type": "code",
   "execution_count": 5,
   "id": "c6dca75a-f520-4438-aa97-0f1577a50914",
   "metadata": {},
   "outputs": [
    {
     "name": "stdout",
     "output_type": "stream",
     "text": [
      "1\n",
      "2\n"
     ]
    }
   ],
   "source": [
    "months = [\"Enero\", \"Febrero\", \"Marzo\", \"Marzo\"]\n",
    "print(months.index(\"Febrero\"))\n",
    "print(months.index(\"Marzo\")) #El primero desde la izquierda al ser repetido"
   ]
  },
  {
   "cell_type": "code",
   "execution_count": 9,
   "id": "df482a5b-3f82-4238-9552-3853cebff1e1",
   "metadata": {},
   "outputs": [
    {
     "name": "stdout",
     "output_type": "stream",
     "text": [
      "[34, 15]\n",
      "[34, 15, 26]\n"
     ]
    }
   ],
   "source": [
    "degrees = [22, 34, 15, 26, 18, 22]\n",
    "sub_degrees = degrees[1:3]\n",
    "print(sub_degrees)\n",
    "sub_degrees = degrees[1:4]\n",
    "print(sub_degrees)"
   ]
  },
  {
   "cell_type": "code",
   "execution_count": 12,
   "id": "cf50f5ae-1516-4f11-b881-6b4bd64c198b",
   "metadata": {},
   "outputs": [
    {
     "name": "stdout",
     "output_type": "stream",
     "text": [
      "['Enero', 'Abril', 'Marzo']\n",
      "['honda', 'yamaha', 'suzuki', 'kawasaki']\n"
     ]
    }
   ],
   "source": [
    "# Modificar\n",
    "months = [\"Enero\", \"Febrero\", \"Marzo\"]\n",
    "months[1] = \"Abril\"\n",
    "print(months)\n",
    "\n",
    "#Añadir\n",
    "motorcycles = ['honda', 'yamaha', 'suzuki']\n",
    "motorcycles.append(\"kawasaki\")\n",
    "print(motorcycles)"
   ]
  },
  {
   "cell_type": "code",
   "execution_count": 13,
   "id": "11c491c0-3377-4e5a-8d96-c2f1bbc1ac6e",
   "metadata": {},
   "outputs": [
    {
     "name": "stdout",
     "output_type": "stream",
     "text": [
      "['siguiente_marca', 'primera_marca']\n"
     ]
    }
   ],
   "source": [
    "#Ir añadiendo a una lista vacia\n",
    "lista_motos = []\n",
    "lista_motos.append(\"primera_marca\")\n",
    "lista_motos.insert(0,\"siguiente_marca\")\n",
    "print(lista_motos)"
   ]
  },
  {
   "cell_type": "code",
   "execution_count": 15,
   "id": "6272a223-52f7-493c-9341-58195fb632fe",
   "metadata": {},
   "outputs": [
    {
     "name": "stdout",
     "output_type": "stream",
     "text": [
      "['Seat', 'BMW', 'VW']\n"
     ]
    }
   ],
   "source": [
    "#Eliminar elementos\n",
    "cars = [\"VW\", \"Seat\", \"BMW\", \"VW\"]\n",
    "cars.remove(\"VW\")\n",
    "print(cars)"
   ]
  },
  {
   "cell_type": "code",
   "execution_count": 17,
   "id": "6b915123-723c-457c-aff3-0b8ac00092ea",
   "metadata": {},
   "outputs": [
    {
     "name": "stdout",
     "output_type": "stream",
     "text": [
      "['Seat']\n"
     ]
    }
   ],
   "source": [
    "eliminado = cars.pop(1)\n",
    "print(cars)"
   ]
  },
  {
   "cell_type": "markdown",
   "id": "9ffd0495-aaeb-41fa-a6b6-349f48f55ac9",
   "metadata": {},
   "source": [
    "#### Ordenar, tamaño, invertir...\n"
   ]
  },
  {
   "cell_type": "code",
   "execution_count": 26,
   "id": "390d3521-a756-4384-8396-2a2073bc6a98",
   "metadata": {},
   "outputs": [
    {
     "name": "stdout",
     "output_type": "stream",
     "text": [
      "[15, 18, 22, 22, 26, 34]\n",
      "[34, 26, 22, 22, 18, 15]\n",
      "6\n",
      "[15, 18, 22, 22, 26, 34]\n",
      "2\n"
     ]
    }
   ],
   "source": [
    "# Ordenar\n",
    "degrees.sort()\n",
    "print(degrees)\n",
    "\n",
    "degrees.sort(reverse = True)\n",
    "print(degrees)\n",
    "\n",
    "# Contar el numero de elementos\n",
    "print(len(degrees))\n",
    "\n",
    "#Invertir la lista\n",
    "degrees.reverse()\n",
    "print(degrees)\n",
    "\n",
    "#Ocurrencias de un elemento\n",
    "print(degrees.count(22))"
   ]
  },
  {
   "cell_type": "markdown",
   "id": "f6afd95e-80a6-43de-bfe7-cc451ae42ceb",
   "metadata": {},
   "source": [
    "## Tuplas"
   ]
  },
  {
   "cell_type": "code",
   "execution_count": 29,
   "id": "dd3a7c9a-5d80-4d28-86e8-7a890f3ee012",
   "metadata": {},
   "outputs": [
    {
     "name": "stdout",
     "output_type": "stream",
     "text": [
      "(3, 'Texto')\n",
      "<class 'tuple'>\n"
     ]
    }
   ],
   "source": [
    "tupla_ejemplo = (3, \"Texto\")\n",
    "print(tupla_ejemplo)\n",
    "print(type(tupla_ejemplo))"
   ]
  },
  {
   "cell_type": "code",
   "execution_count": 30,
   "id": "7a0a4634-9546-4ec6-b6bf-0db7cec4c566",
   "metadata": {},
   "outputs": [
    {
     "name": "stdout",
     "output_type": "stream",
     "text": [
      "El primer elemento es 3\n",
      "El segundo elemento es Texto\n"
     ]
    }
   ],
   "source": [
    "print(\"El primer elemento es\", tupla_ejemplo[0])\n",
    "print(\"El segundo elemento es\", tupla_ejemplo[1])"
   ]
  },
  {
   "cell_type": "code",
   "execution_count": 33,
   "id": "c80e7a46-2435-48ff-95ec-93e2e983bc30",
   "metadata": {},
   "outputs": [
    {
     "name": "stdout",
     "output_type": "stream",
     "text": [
      "<class 'int'> 24\n",
      "<class 'tuple'> (24,)\n"
     ]
    }
   ],
   "source": [
    "mala_tupla = (24)\n",
    "print(type(mala_tupla), mala_tupla)\n",
    "\n",
    "buena_tupla = (24,)\n",
    "print(type(buena_tupla), buena_tupla)"
   ]
  },
  {
   "cell_type": "code",
   "execution_count": 35,
   "id": "298e4473-1fc2-444a-9ff4-c70119fa94e4",
   "metadata": {},
   "outputs": [
    {
     "name": "stdout",
     "output_type": "stream",
     "text": [
      "(1, 2, 3, ('A', 'B', 'C'))\n",
      "4\n",
      "3\n",
      "B\n"
     ]
    }
   ],
   "source": [
    "# Anidación tupla\n",
    "tupla_anid = (1, 2, 3, (\"A\", \"B\", \"C\"))\n",
    "print(tupla_anid)\n",
    "print(len(tupla_anid))\n",
    "\n",
    "print(tupla_anid[2])\n",
    "print(tupla_anid[3][1])"
   ]
  },
  {
   "cell_type": "code",
   "execution_count": 36,
   "id": "046494eb-e6e1-4586-866c-2e9c8e450cbe",
   "metadata": {},
   "outputs": [
    {
     "name": "stdout",
     "output_type": "stream",
     "text": [
      "1\n",
      "2\n",
      "3\n",
      "('A', 'B', 'C')\n"
     ]
    }
   ],
   "source": [
    "# Son iterables\n",
    "for i in tupla_anid:\n",
    "    print(i)"
   ]
  },
  {
   "cell_type": "code",
   "execution_count": 39,
   "id": "fb3aba15-6a09-4afb-895a-d1e9bd532610",
   "metadata": {},
   "outputs": [
    {
     "name": "stdout",
     "output_type": "stream",
     "text": [
      "(3, ('A', 'B', 'C'))\n"
     ]
    }
   ],
   "source": [
    "# Slicing\n",
    "tupla_bis = tupla_anid[2:]\n",
    "print(tupla_bis)"
   ]
  },
  {
   "cell_type": "markdown",
   "id": "ccc5c27a-3b65-4c37-8bd4-eac4d038c385",
   "metadata": {},
   "source": [
    "## Colecciones: Diccionarios"
   ]
  },
  {
   "cell_type": "code",
   "execution_count": 40,
   "id": "2b9cc2a0-0c9b-445a-9f2a-33ac5fbf2e7c",
   "metadata": {},
   "outputs": [
    {
     "data": {
      "text/plain": [
       "{'color': 'rojo',\n",
       " 'marca': 'tesla',\n",
       " 'modelo': 'cybertruck',\n",
       " 'peso': 3500,\n",
       " 'cambio automatico': True}"
      ]
     },
     "execution_count": 40,
     "metadata": {},
     "output_type": "execute_result"
    }
   ],
   "source": [
    "coche_dict = {\n",
    "    \"color\": \"rojo\",\n",
    "    \"marca\": \"tesla\",\n",
    "    \"modelo\": \"cybertruck\",\n",
    "    \"peso\": 3500,\n",
    "    \"cambio automatico\": True\n",
    "}\n",
    "coche_dict"
   ]
  },
  {
   "cell_type": "code",
   "execution_count": 43,
   "id": "c58518cb-d29b-4b0d-9882-9ad11fa37dc0",
   "metadata": {},
   "outputs": [
    {
     "name": "stdout",
     "output_type": "stream",
     "text": [
      "rojo\n",
      "3500\n"
     ]
    }
   ],
   "source": [
    "#Acceso\n",
    "print(coche_dict[\"color\"])\n",
    "print(coche_dict[\"peso\"])"
   ]
  },
  {
   "cell_type": "code",
   "execution_count": 49,
   "id": "69808655-5cda-43c0-8b71-c3e80a3661e1",
   "metadata": {},
   "outputs": [
    {
     "name": "stdout",
     "output_type": "stream",
     "text": [
      "{'color': ['rojo', 'gris'], 'marca': 'tesla', 'modelo': 'cybertruck', 'peso': 3500, 'cambio automatico': True, 'puertas': 6}\n",
      "6\n",
      "{'color': ['rojo', 'gris'], 'marca': 'tesla', 'modelo': 'cybertruck', 'peso': 3500, 'cambio automatico': True}\n"
     ]
    }
   ],
   "source": [
    "#Añadir elementos a etiqueta o nueva etiqueta\n",
    "coche_dict[\"color\"] = [\"rojo\",\"gris\"]\n",
    "print(coche_dict)\n",
    "coche_dict[\"puertas\"] = 6\n",
    "print(coche_dict[\"puertas\"])\n",
    "\n",
    "#Eliminar elemento\n",
    "del coche_dict[\"puertas\"]\n",
    "print(coche_dict)"
   ]
  },
  {
   "cell_type": "code",
   "execution_count": 54,
   "id": "ac3f2661-f771-4cc3-bbdb-21dcb4371b01",
   "metadata": {},
   "outputs": [
    {
     "name": "stdout",
     "output_type": "stream",
     "text": [
      "dict_keys(['color', 'marca', 'modelo', 'peso', 'cambio automatico'])\n",
      "dict_values([['rojo', 'gris'], 'tesla', 'cybertruck', 3500, True])\n"
     ]
    }
   ],
   "source": [
    "# Conocer las claves del diccionario \n",
    "print(coche_dict.keys())\n",
    "\n",
    "#Conocer valores diccionario \n",
    "print(coche_dict.values())"
   ]
  },
  {
   "cell_type": "code",
   "execution_count": 57,
   "id": "8262a4d3-baf8-4f3f-be98-5b83997436b4",
   "metadata": {},
   "outputs": [
    {
     "name": "stdout",
     "output_type": "stream",
     "text": [
      "{'direccion': 'Oslo 19', 'tamaño': 123}\n"
     ]
    }
   ],
   "source": [
    "#Empezar mediante un diccionario vacio\n",
    "tienda = {}\n",
    "tienda[\"direccion\"] = \"Oslo 19\"\n",
    "tienda[\"tamaño\"] = 123\n",
    "print(tienda)"
   ]
  },
  {
   "cell_type": "code",
   "execution_count": 58,
   "id": "feae9cca-04bd-41ac-ae77-5a9a78f94d83",
   "metadata": {},
   "outputs": [
    {
     "name": "stdout",
     "output_type": "stream",
     "text": [
      "4\n"
     ]
    }
   ],
   "source": [
    "#No sabemos si existe etiqueta pero si no existe se crea\n",
    "numero_de_puertas = coche_dict.get(\"puertas\",4)\n",
    "print(numero_de_puertas)"
   ]
  },
  {
   "cell_type": "code",
   "execution_count": 62,
   "id": "05912da1-c3d8-49db-80b6-88983dfd3874",
   "metadata": {},
   "outputs": [
    {
     "name": "stdout",
     "output_type": "stream",
     "text": [
      "color : ['rojo', 'gris']\n",
      "marca : tesla\n",
      "modelo : cybertruck\n",
      "peso : 3500\n",
      "cambio automatico : True\n"
     ]
    }
   ],
   "source": [
    "#Iterar\n",
    "for i in coche_dict:\n",
    "    print(i, \":\", coche_dict[i])"
   ]
  },
  {
   "cell_type": "code",
   "execution_count": 63,
   "id": "c5dba641-705b-49ce-ac7d-b24eade97c8f",
   "metadata": {},
   "outputs": [
    {
     "name": "stdout",
     "output_type": "stream",
     "text": [
      "color : ['rojo', 'gris']\n",
      "marca : tesla\n",
      "modelo : cybertruck\n",
      "peso : 3500\n",
      "cambio automatico : True\n"
     ]
    }
   ],
   "source": [
    "for clave,valor in coche_dict.items():\n",
    "    print(clave, \":\", valor)"
   ]
  },
  {
   "cell_type": "markdown",
   "id": "f34135fb-4ec8-4911-aae2-3d278e1f1fd9",
   "metadata": {},
   "source": [
    "## Sets"
   ]
  },
  {
   "cell_type": "code",
   "execution_count": 2,
   "id": "bb0b8914-2d23-46db-aeef-412b9e6156df",
   "metadata": {},
   "outputs": [
    {
     "name": "stdout",
     "output_type": "stream",
     "text": [
      "{'azul', 'rojo', 'verde'}\n"
     ]
    }
   ],
   "source": [
    "colores = {\"azul\", \"rojo\", \"verde\", \"azul\", \"verde\"}\n",
    "print(colores)"
   ]
  },
  {
   "cell_type": "code",
   "execution_count": 19,
   "id": "5647cd66-b8af-42e7-8cf6-d7d73b21805b",
   "metadata": {},
   "outputs": [
    {
     "name": "stdout",
     "output_type": "stream",
     "text": [
      "{'azul', 'naranja', 'celeste', 'morado', 'rojo', 'burdeos', 'verde'}\n",
      "{'azul', 'celeste', 'morado', 'rojo', 'burdeos', 'verde'}\n",
      "azul\n",
      "celeste\n",
      "morado\n",
      "rojo\n",
      "burdeos\n",
      "verde\n"
     ]
    }
   ],
   "source": [
    "# Añadir valores\n",
    "colores.add(\"morado\")\n",
    "colores.update([\"celeste\", \"burdeos\", \"naranja\"])\n",
    "print(colores)\n",
    "\n",
    "colores.remove(\"naranja\")\n",
    "print(colores)\n",
    "\n",
    "for color in colores:\n",
    "    print(color)"
   ]
  },
  {
   "cell_type": "code",
   "execution_count": 20,
   "id": "db68ac48-a8a5-4ea1-9dc0-f83615136723",
   "metadata": {},
   "outputs": [
    {
     "data": {
      "text/plain": [
       "False"
      ]
     },
     "execution_count": 20,
     "metadata": {},
     "output_type": "execute_result"
    }
   ],
   "source": [
    "set1 = {1,2,3,4,5,6}\n",
    "set2 = {1,2,3,4,5,6,7,8}\n",
    "\n",
    "set1 == set2"
   ]
  },
  {
   "cell_type": "code",
   "execution_count": null,
   "id": "1bfce9f2-e57b-4e25-b814-84811f065517",
   "metadata": {},
   "outputs": [],
   "source": []
  }
 ],
 "metadata": {
  "kernelspec": {
   "display_name": "Python 3 (ipykernel)",
   "language": "python",
   "name": "python3"
  },
  "language_info": {
   "codemirror_mode": {
    "name": "ipython",
    "version": 3
   },
   "file_extension": ".py",
   "mimetype": "text/x-python",
   "name": "python",
   "nbconvert_exporter": "python",
   "pygments_lexer": "ipython3",
   "version": "3.13.7"
  }
 },
 "nbformat": 4,
 "nbformat_minor": 5
}
