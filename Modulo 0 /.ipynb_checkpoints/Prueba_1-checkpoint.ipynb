{
 "cells": [
  {
   "cell_type": "markdown",
   "id": "796edd25-479c-4ed5-b226-83612d7602bb",
   "metadata": {},
   "source": [
    "# Mis primeros pasos con Markdown"
   ]
  },
  {
   "cell_type": "code",
   "execution_count": 1,
   "id": "1f7db966-32f2-4c1d-ac52-abbd2d114094",
   "metadata": {},
   "outputs": [],
   "source": [
    "# Esto es código de Python"
   ]
  },
  {
   "cell_type": "markdown",
   "id": "07a2b64f-9fb4-47ed-b0f3-94e66bc6fea2",
   "metadata": {},
   "source": [
    "# Cabecera 1\n",
    "## Cabecera 2"
   ]
  },
  {
   "cell_type": "code",
   "execution_count": 2,
   "id": "cb5cfb00-f998-4a43-a22e-384d217945bd",
   "metadata": {},
   "outputs": [],
   "source": [
    "# hasta 6"
   ]
  },
  {
   "cell_type": "markdown",
   "id": "ba356dcd-df61-4158-8b9f-37d17d9cfdc7",
   "metadata": {},
   "source": [
    "##### Cabecera 5\n",
    "###### Cabercera 6"
   ]
  },
  {
   "cell_type": "markdown",
   "id": "a838b40a-fc3d-4fb8-a458-4748d667719c",
   "metadata": {},
   "source": [
    "<h1>Header 1</h1>\n",
    "<h2>Header 2</h2>\n",
    "<h3>Header 3</h3>"
   ]
  },
  {
   "cell_type": "markdown",
   "id": "151ff09c-8dbf-4f0a-9d1d-03fdfa0ac008",
   "metadata": {},
   "source": [
    "***Hola***\n",
    "\n",
    "**Hola**\n",
    "\n",
    "*Hola*"
   ]
  },
  {
   "cell_type": "markdown",
   "id": "464eae08-1d38-4ffc-a7ee-2d90dc1a8f31",
   "metadata": {},
   "source": [
    ">Recuerda dentista\n",
    ">>Y médico"
   ]
  },
  {
   "cell_type": "code",
   "execution_count": null,
   "id": "7f4d4b9a-4d44-4737-ad16-d5a0adae2f94",
   "metadata": {},
   "outputs": [],
   "source": []
  }
 ],
 "metadata": {
  "kernelspec": {
   "display_name": "Python 3 (ipykernel)",
   "language": "python",
   "name": "python3"
  },
  "language_info": {
   "codemirror_mode": {
    "name": "ipython",
    "version": 3
   },
   "file_extension": ".py",
   "mimetype": "text/x-python",
   "name": "python",
   "nbconvert_exporter": "python",
   "pygments_lexer": "ipython3",
   "version": "3.13.7"
  }
 },
 "nbformat": 4,
 "nbformat_minor": 5
}
