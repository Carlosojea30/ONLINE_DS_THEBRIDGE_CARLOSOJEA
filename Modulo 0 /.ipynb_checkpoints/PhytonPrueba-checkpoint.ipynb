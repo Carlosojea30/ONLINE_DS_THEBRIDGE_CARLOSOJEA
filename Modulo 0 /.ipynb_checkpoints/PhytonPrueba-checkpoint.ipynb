{
 "cells": [
  {
   "cell_type": "markdown",
   "id": "8ff442e1-d0e9-4fd9-89cc-b6d9f9cde37f",
   "metadata": {},
   "source": [
    "# Prueba Python"
   ]
  },
  {
   "cell_type": "markdown",
   "id": "0be25ad4-07a1-4ff9-b6f6-f63fde938234",
   "metadata": {},
   "source": [
    "## Variables I"
   ]
  },
  {
   "cell_type": "code",
   "execution_count": 1,
   "id": "23d86cff-37e9-46bf-9196-a215e45cf649",
   "metadata": {},
   "outputs": [],
   "source": [
    "ingresos = 1000\n",
    "gastos = 400"
   ]
  },
  {
   "cell_type": "code",
   "execution_count": 2,
   "id": "d51328f3-06b1-4421-9caf-328e2064660c",
   "metadata": {},
   "outputs": [
    {
     "data": {
      "text/plain": [
       "1000"
      ]
     },
     "execution_count": 2,
     "metadata": {},
     "output_type": "execute_result"
    }
   ],
   "source": [
    "ingresos"
   ]
  },
  {
   "cell_type": "code",
   "execution_count": 8,
   "id": "07002c98-9573-4398-8ea7-7bd59c49c494",
   "metadata": {},
   "outputs": [
    {
     "data": {
      "text/plain": [
       "600"
      ]
     },
     "execution_count": 8,
     "metadata": {},
     "output_type": "execute_result"
    }
   ],
   "source": [
    "ingresos - gastos"
   ]
  },
  {
   "cell_type": "code",
   "execution_count": 4,
   "id": "729abdb3-6094-429b-b4a5-1b9b251ef58a",
   "metadata": {},
   "outputs": [
    {
     "data": {
      "text/plain": [
       "400"
      ]
     },
     "execution_count": 4,
     "metadata": {},
     "output_type": "execute_result"
    }
   ],
   "source": [
    "ingresos\n",
    "gastos"
   ]
  },
  {
   "cell_type": "markdown",
   "id": "f2329f44-9f40-46d1-a740-c58410dc3bfb",
   "metadata": {},
   "source": [
    "***400 porque coge el ultimo valor de la celda***"
   ]
  },
  {
   "cell_type": "code",
   "execution_count": 6,
   "id": "da413a00-a40f-4a51-8dd5-4bed401158a3",
   "metadata": {},
   "outputs": [
    {
     "name": "stdout",
     "output_type": "stream",
     "text": [
      "1000\n",
      "400\n"
     ]
    }
   ],
   "source": [
    "print(ingresos)\n",
    "print(gastos)"
   ]
  },
  {
   "cell_type": "markdown",
   "id": "8f6b1ceb-8f5f-4a4e-8f22-e743cc40b311",
   "metadata": {},
   "source": [
    "### Cadenas de textos"
   ]
  },
  {
   "cell_type": "code",
   "execution_count": 9,
   "id": "8dd2b925-7497-4596-b66b-2e38c17442ec",
   "metadata": {},
   "outputs": [
    {
     "name": "stdout",
     "output_type": "stream",
     "text": [
      "Los ingresos han sido altos\n",
      "Los ingresos han sido altos\n"
     ]
    }
   ],
   "source": [
    "ingresos_text = \"Los ingresos han sido altos\"\n",
    "ingresos_alt = 'Los ingresos han sido altos'\n",
    "print(ingresos_text)\n",
    "print(ingresos_alt)"
   ]
  },
  {
   "cell_type": "code",
   "execution_count": 10,
   "id": "df194e7e-9c8f-451d-8f6c-3a173134778d",
   "metadata": {},
   "outputs": [],
   "source": [
    "ingresos_text = \"Los 'ingresos' han sido altos\""
   ]
  },
  {
   "cell_type": "code",
   "execution_count": 11,
   "id": "76f04625-c83d-46c1-a7c1-5c56ac767c36",
   "metadata": {},
   "outputs": [
    {
     "data": {
      "text/plain": [
       "\"Los 'ingresos' han sido altos\""
      ]
     },
     "execution_count": 11,
     "metadata": {},
     "output_type": "execute_result"
    }
   ],
   "source": [
    "ingresos_text"
   ]
  },
  {
   "cell_type": "code",
   "execution_count": 12,
   "id": "b4c2b8e2-863e-4373-8c05-ffa71ab09326",
   "metadata": {},
   "outputs": [
    {
     "ename": "SyntaxError",
     "evalue": "invalid syntax (3969662993.py, line 1)",
     "output_type": "error",
     "traceback": [
      "  \u001b[36mCell\u001b[39m\u001b[36m \u001b[39m\u001b[32mIn[12]\u001b[39m\u001b[32m, line 1\u001b[39m\n\u001b[31m    \u001b[39m\u001b[31mingresos_text = \"Los \"ingresos\" han sido altos\"\u001b[39m\n                          ^\n\u001b[31mSyntaxError\u001b[39m\u001b[31m:\u001b[39m invalid syntax\n"
     ]
    }
   ],
   "source": [
    "ingresos_text = \"Los \"ingresos\" han sido altos\""
   ]
  },
  {
   "cell_type": "code",
   "execution_count": 13,
   "id": "7ad92636-159d-4f87-8ba4-49498519028f",
   "metadata": {},
   "outputs": [],
   "source": [
    "gastos = 200"
   ]
  },
  {
   "cell_type": "code",
   "execution_count": 14,
   "id": "335473a0-fb5b-4aa0-933f-871124f88c73",
   "metadata": {},
   "outputs": [
    {
     "name": "stdout",
     "output_type": "stream",
     "text": [
      "200\n"
     ]
    }
   ],
   "source": [
    "print(gastos)"
   ]
  },
  {
   "cell_type": "code",
   "execution_count": 15,
   "id": "a26afe6a-75bf-42de-ad6d-f2610874425b",
   "metadata": {},
   "outputs": [],
   "source": [
    "gastos = 100 "
   ]
  },
  {
   "cell_type": "code",
   "execution_count": 16,
   "id": "64af1f6f-0fe3-4f74-acaa-7b754bc20eb6",
   "metadata": {},
   "outputs": [],
   "source": [
    "beneficios = ingresos - gastos"
   ]
  },
  {
   "cell_type": "code",
   "execution_count": 17,
   "id": "5c9eb89d-18c6-430c-b666-0bc3f5f7f8a8",
   "metadata": {},
   "outputs": [
    {
     "name": "stdout",
     "output_type": "stream",
     "text": [
      "900\n"
     ]
    }
   ],
   "source": [
    "print(beneficios)"
   ]
  },
  {
   "cell_type": "markdown",
   "id": "81ad1c34-6baa-49c1-834f-5b96c15b6170",
   "metadata": {},
   "source": [
    "## Variables II\n",
    "### Errores"
   ]
  },
  {
   "cell_type": "code",
   "execution_count": 18,
   "id": "e591d042-44ce-479f-9f01-0cbc50a4ee07",
   "metadata": {},
   "outputs": [
    {
     "ename": "NameError",
     "evalue": "name 'gstos' is not defined",
     "output_type": "error",
     "traceback": [
      "\u001b[31m---------------------------------------------------------------------------\u001b[39m",
      "\u001b[31mNameError\u001b[39m                                 Traceback (most recent call last)",
      "\u001b[36mCell\u001b[39m\u001b[36m \u001b[39m\u001b[32mIn[18]\u001b[39m\u001b[32m, line 1\u001b[39m\n\u001b[32m----> \u001b[39m\u001b[32m1\u001b[39m \u001b[43mgstos\u001b[49m\n",
      "\u001b[31mNameError\u001b[39m: name 'gstos' is not defined"
     ]
    }
   ],
   "source": [
    "gstos"
   ]
  },
  {
   "cell_type": "code",
   "execution_count": 1,
   "id": "50f9bb1f-1a52-4750-9c4b-59058e08dce0",
   "metadata": {},
   "outputs": [
    {
     "ename": "SyntaxError",
     "evalue": "unterminated string literal (detected at line 1) (90447780.py, line 1)",
     "output_type": "error",
     "traceback": [
      "  \u001b[36mCell\u001b[39m\u001b[36m \u001b[39m\u001b[32mIn[1]\u001b[39m\u001b[32m, line 1\u001b[39m\n\u001b[31m    \u001b[39m\u001b[31mtexto = \"Error sin comillas\u001b[39m\n            ^\n\u001b[31mSyntaxError\u001b[39m\u001b[31m:\u001b[39m unterminated string literal (detected at line 1)\n"
     ]
    }
   ],
   "source": [
    "texto = \"Error sin comillas"
   ]
  },
  {
   "cell_type": "code",
   "execution_count": 2,
   "id": "35cc55ec-8eb8-4eeb-8de0-0c64caadf8d5",
   "metadata": {},
   "outputs": [
    {
     "ename": "SyntaxError",
     "evalue": "invalid decimal literal (176038607.py, line 1)",
     "output_type": "error",
     "traceback": [
      "  \u001b[36mCell\u001b[39m\u001b[36m \u001b[39m\u001b[32mIn[2]\u001b[39m\u001b[32m, line 1\u001b[39m\n\u001b[31m    \u001b[39m\u001b[31m2009_ingresos\u001b[39m\n        ^\n\u001b[31mSyntaxError\u001b[39m\u001b[31m:\u001b[39m invalid decimal literal\n"
     ]
    }
   ],
   "source": [
    "2009_ingresos"
   ]
  },
  {
   "cell_type": "code",
   "execution_count": 3,
   "id": "3069e702-f4ab-4b70-8ea6-f232a1ca823a",
   "metadata": {},
   "outputs": [],
   "source": [
    "ingresos_2009 = 25000"
   ]
  },
  {
   "cell_type": "code",
   "execution_count": 5,
   "id": "2763c982-8bd7-4701-a819-80d8f75ea738",
   "metadata": {},
   "outputs": [
    {
     "ename": "NameError",
     "evalue": "name 'Ingresos_2009' is not defined",
     "output_type": "error",
     "traceback": [
      "\u001b[31m---------------------------------------------------------------------------\u001b[39m",
      "\u001b[31mNameError\u001b[39m                                 Traceback (most recent call last)",
      "\u001b[36mCell\u001b[39m\u001b[36m \u001b[39m\u001b[32mIn[5]\u001b[39m\u001b[32m, line 1\u001b[39m\n\u001b[32m----> \u001b[39m\u001b[32m1\u001b[39m \u001b[38;5;28mprint\u001b[39m(\u001b[43mIngresos_2009\u001b[49m)\n",
      "\u001b[31mNameError\u001b[39m: name 'Ingresos_2009' is not defined"
     ]
    }
   ],
   "source": [
    "print(Ingresos_2009)"
   ]
  },
  {
   "cell_type": "markdown",
   "id": "d2d72bba-cfe6-4861-a8e6-ee20d2224a8e",
   "metadata": {},
   "source": [
    "**CUIDADO CON LAS MAYUSCULAS**"
   ]
  },
  {
   "cell_type": "markdown",
   "id": "10905708-20a6-4b4c-81bf-fad3cf031e71",
   "metadata": {},
   "source": [
    "**HAY PALABRAS RESERVADAS QUE NO NOS DEJAN USAR:**"
   ]
  },
  {
   "cell_type": "code",
   "execution_count": 6,
   "id": "352f6a94-0955-49dc-90dd-d245f68c4336",
   "metadata": {},
   "outputs": [
    {
     "ename": "SyntaxError",
     "evalue": "invalid syntax (3594483855.py, line 1)",
     "output_type": "error",
     "traceback": [
      "  \u001b[36mCell\u001b[39m\u001b[36m \u001b[39m\u001b[32mIn[6]\u001b[39m\u001b[32m, line 1\u001b[39m\n\u001b[31m    \u001b[39m\u001b[31mdef = 10\u001b[39m\n        ^\n\u001b[31mSyntaxError\u001b[39m\u001b[31m:\u001b[39m invalid syntax\n"
     ]
    }
   ],
   "source": [
    "def = 10"
   ]
  },
  {
   "cell_type": "code",
   "execution_count": 7,
   "id": "574a5086-5d8c-47a5-9c20-9392f8e34cbd",
   "metadata": {},
   "outputs": [
    {
     "name": "stdout",
     "output_type": "stream",
     "text": [
      "['False', 'None', 'True', 'and', 'as', 'assert', 'async', 'await', 'break', 'class', 'continue', 'def', 'del', 'elif', 'else', 'except', 'finally', 'for', 'from', 'global', 'if', 'import', 'in', 'is', 'lambda', 'nonlocal', 'not', 'or', 'pass', 'raise', 'return', 'try', 'while', 'with', 'yield']\n"
     ]
    }
   ],
   "source": [
    "import keyword\n",
    "print(keyword.kwlist)"
   ]
  },
  {
   "cell_type": "code",
   "execution_count": 8,
   "id": "061f3e8f-052b-470b-a170-8d5218403111",
   "metadata": {},
   "outputs": [
    {
     "name": "stdout",
     "output_type": "stream",
     "text": [
      "\n",
      "Here is a list of the Python keywords.  Enter any keyword to get more help.\n",
      "\n",
      "False               class               from                or\n",
      "None                continue            global              pass\n",
      "True                def                 if                  raise\n",
      "and                 del                 import              return\n",
      "as                  elif                in                  try\n",
      "assert              else                is                  while\n",
      "async               except              lambda              with\n",
      "await               finally             nonlocal            yield\n",
      "break               for                 not                 \n",
      "\n"
     ]
    }
   ],
   "source": [
    "help(\"keywords\")"
   ]
  },
  {
   "cell_type": "code",
   "execution_count": null,
   "id": "bb660d80-579c-4fdd-a2cf-74e0daefb4b7",
   "metadata": {},
   "outputs": [],
   "source": []
  }
 ],
 "metadata": {
  "kernelspec": {
   "display_name": "Python 3 (ipykernel)",
   "language": "python",
   "name": "python3"
  },
  "language_info": {
   "codemirror_mode": {
    "name": "ipython",
    "version": 3
   },
   "file_extension": ".py",
   "mimetype": "text/x-python",
   "name": "python",
   "nbconvert_exporter": "python",
   "pygments_lexer": "ipython3",
   "version": "3.13.7"
  }
 },
 "nbformat": 4,
 "nbformat_minor": 5
}
