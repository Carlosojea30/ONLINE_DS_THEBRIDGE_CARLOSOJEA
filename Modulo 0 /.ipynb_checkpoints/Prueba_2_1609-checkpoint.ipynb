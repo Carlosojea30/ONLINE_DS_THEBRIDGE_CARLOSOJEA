{
 "cells": [
  {
   "cell_type": "markdown",
   "id": "9ccf720e-0b62-478e-afbb-7c85e712fa89",
   "metadata": {},
   "source": [
    "# 16/09/2025"
   ]
  },
  {
   "cell_type": "code",
   "execution_count": 1,
   "id": "12e1bb09-74ff-478d-a00b-ea53566f2635",
   "metadata": {},
   "outputs": [],
   "source": [
    "ingresos = 1000\n",
    "gastos = 100\n",
    "beneficios = ingresos - gastos"
   ]
  },
  {
   "cell_type": "code",
   "execution_count": 2,
   "id": "84154fba-897b-4ec8-9e0c-62fe0381a425",
   "metadata": {},
   "outputs": [
    {
     "name": "stdout",
     "output_type": "stream",
     "text": [
      "1000\n",
      "100\n",
      "Los beneficios han sido de:\n",
      "900\n"
     ]
    }
   ],
   "source": [
    "print(ingresos)\n",
    "print(gastos)\n",
    "print(\"Los beneficios han sido de:\")\n",
    "print(beneficios)"
   ]
  },
  {
   "cell_type": "code",
   "execution_count": 3,
   "id": "4d47fde3-ac35-4aa6-a442-bfb9717fbfd4",
   "metadata": {},
   "outputs": [
    {
     "name": "stdout",
     "output_type": "stream",
     "text": [
      "Los beneficios de junio han sido 900 millones\n"
     ]
    }
   ],
   "source": [
    "mes = \"junio\"\n",
    "print(\"Los beneficios de %s han sido %s millones\" %(mes,beneficios))"
   ]
  },
  {
   "cell_type": "code",
   "execution_count": 4,
   "id": "44360c1b-c9c8-47b0-92a7-289cd6fd216b",
   "metadata": {},
   "outputs": [
    {
     "name": "stdout",
     "output_type": "stream",
     "text": [
      "los beneficios de 900 han sido junio millones\n"
     ]
    }
   ],
   "source": [
    "print(\"los beneficios de %s han sido %s millones\" %(beneficios,mes))"
   ]
  },
  {
   "cell_type": "code",
   "execution_count": 5,
   "id": "a5fbea05-f550-4fed-9218-bc31028b98d2",
   "metadata": {},
   "outputs": [
    {
     "name": "stdout",
     "output_type": "stream",
     "text": [
      "Los beneficios de agosto han sido 900 millones\n"
     ]
    }
   ],
   "source": [
    "mes = \"agosto\"\n",
    "print(\"Los beneficios de\" , mes , \"han sido\", beneficios, \"millones\")"
   ]
  },
  {
   "cell_type": "code",
   "execution_count": 8,
   "id": "931cb17b-e2d8-44dd-ad6b-6c681c781060",
   "metadata": {},
   "outputs": [
    {
     "name": "stdout",
     "output_type": "stream",
     "text": [
      "Esto sí lo ejecutará\n"
     ]
    }
   ],
   "source": [
    "# Comentario de lines\n",
    "# print(\"esto lo ignora\")\n",
    "\n",
    "print(\"Esto sí lo ejecutará\")"
   ]
  },
  {
   "cell_type": "code",
   "execution_count": 9,
   "id": "7be3e5ba-cbaf-43c6-b416-ae8d1893551c",
   "metadata": {},
   "outputs": [
    {
     "name": "stdout",
     "output_type": "stream",
     "text": [
      "Fin del programa\n"
     ]
    }
   ],
   "source": [
    "print(\"Fin del programa\") # Esta línea indica que hemos terminado"
   ]
  },
  {
   "cell_type": "code",
   "execution_count": 13,
   "id": "bd058373-0417-4f66-a6c7-07a51182721c",
   "metadata": {},
   "outputs": [
    {
     "name": "stdout",
     "output_type": "stream",
     "text": [
      "este sí\n"
     ]
    }
   ],
   "source": [
    "'''\n",
    "Comentario multilinea\n",
    "Puedo usar varias líneas sin repetir el #\n",
    "print(\"no se va a ejecutar\")\n",
    "'''\n",
    "\n",
    "print(\"este sí\")"
   ]
  },
  {
   "cell_type": "markdown",
   "id": "c077f5d8-a112-4735-87e5-d989ea7e276a",
   "metadata": {},
   "source": [
    "## Flujos de ejecución\n"
   ]
  },
  {
   "cell_type": "code",
   "execution_count": 14,
   "id": "a3175013-25b8-455d-9ff5-3da7b8bd03ad",
   "metadata": {},
   "outputs": [
    {
     "ename": "NameError",
     "evalue": "name 'ventas_junio' is not defined",
     "output_type": "error",
     "traceback": [
      "\u001b[31m---------------------------------------------------------------------------\u001b[39m",
      "\u001b[31mNameError\u001b[39m                                 Traceback (most recent call last)",
      "\u001b[36mCell\u001b[39m\u001b[36m \u001b[39m\u001b[32mIn[14]\u001b[39m\u001b[32m, line 1\u001b[39m\n\u001b[32m----> \u001b[39m\u001b[32m1\u001b[39m ventas_jun_jul = \u001b[43mventas_junio\u001b[49m + ventas_julio\n\u001b[32m      2\u001b[39m ventas_junio = \u001b[32m100\u001b[39m\n\u001b[32m      3\u001b[39m ventas_julio = \u001b[32m150\u001b[39m\n",
      "\u001b[31mNameError\u001b[39m: name 'ventas_junio' is not defined"
     ]
    }
   ],
   "source": [
    "ventas_jun_jul = ventas_junio + ventas_julio\n",
    "ventas_junio = 100\n",
    "ventas_julio = 150"
   ]
  },
  {
   "cell_type": "code",
   "execution_count": 15,
   "id": "aa877ccc-2885-4cb2-b88f-4f7d8916b098",
   "metadata": {},
   "outputs": [],
   "source": [
    "ventas_junio = 100\n",
    "ventas_julio = 150\n",
    "ventas_jun_jul = ventas_junio + ventas_julio"
   ]
  },
  {
   "cell_type": "code",
   "execution_count": 17,
   "id": "d7936538-d068-42f8-84b5-a88f22283ce4",
   "metadata": {},
   "outputs": [
    {
     "name": "stdout",
     "output_type": "stream",
     "text": [
      "Las ventas de junio a julio son 250\n"
     ]
    }
   ],
   "source": [
    "print(\"Las ventas de junio a julio son\", ventas_jun_jul)"
   ]
  },
  {
   "cell_type": "code",
   "execution_count": 19,
   "id": "c9a6a598-41d6-4155-b027-2f27317a3f05",
   "metadata": {},
   "outputs": [
    {
     "name": "stdout",
     "output_type": "stream",
     "text": [
      "1.8 75\n"
     ]
    }
   ],
   "source": [
    "altura = 1.80; peso = 75\n",
    "print(altura, peso)"
   ]
  },
  {
   "cell_type": "code",
   "execution_count": 20,
   "id": "92987ef4-e76c-4558-a86b-37d5bb901a5b",
   "metadata": {},
   "outputs": [],
   "source": [
    "x,y,z = 12,23,45"
   ]
  },
  {
   "cell_type": "code",
   "execution_count": 21,
   "id": "9f1fbf3d-c821-4ac6-acbd-0bec9914479f",
   "metadata": {},
   "outputs": [],
   "source": [
    "x = 12\n",
    "y = 23 \n",
    "z = 45"
   ]
  },
  {
   "cell_type": "markdown",
   "id": "06ca7a74-2255-4d11-ac86-9ffaa8b0567c",
   "metadata": {},
   "source": [
    "## Del (borrar variables)"
   ]
  },
  {
   "cell_type": "code",
   "execution_count": 22,
   "id": "476238c0-3014-49a9-9deb-00f99ecfa2ef",
   "metadata": {},
   "outputs": [],
   "source": [
    "altura = 1,85\n",
    "del altura"
   ]
  },
  {
   "cell_type": "code",
   "execution_count": 23,
   "id": "f12a04ba-4fa2-4245-b4dc-7095532eea5c",
   "metadata": {},
   "outputs": [
    {
     "ename": "NameError",
     "evalue": "name 'altura' is not defined",
     "output_type": "error",
     "traceback": [
      "\u001b[31m---------------------------------------------------------------------------\u001b[39m",
      "\u001b[31mNameError\u001b[39m                                 Traceback (most recent call last)",
      "\u001b[36mCell\u001b[39m\u001b[36m \u001b[39m\u001b[32mIn[23]\u001b[39m\u001b[32m, line 1\u001b[39m\n\u001b[32m----> \u001b[39m\u001b[32m1\u001b[39m \u001b[38;5;28mprint\u001b[39m(\u001b[43maltura\u001b[49m)\n",
      "\u001b[31mNameError\u001b[39m: name 'altura' is not defined"
     ]
    }
   ],
   "source": [
    "print(altura)"
   ]
  },
  {
   "cell_type": "markdown",
   "id": "b398514c-f6a2-46cf-985d-8681b7d595fe",
   "metadata": {},
   "source": [
    "# Tipos de Datos"
   ]
  },
  {
   "cell_type": "markdown",
   "id": "4d3d0940-f378-40e6-b469-d16fa0dcdf27",
   "metadata": {},
   "source": [
    "## Numérico"
   ]
  },
  {
   "cell_type": "code",
   "execution_count": 24,
   "id": "645f0349-a055-42c2-a933-8a4c7ab88ab9",
   "metadata": {},
   "outputs": [
    {
     "data": {
      "text/plain": [
       "int"
      ]
     },
     "execution_count": 24,
     "metadata": {},
     "output_type": "execute_result"
    }
   ],
   "source": [
    "numero = 22\n",
    "type(numero)"
   ]
  },
  {
   "cell_type": "code",
   "execution_count": 25,
   "id": "a03292be-c958-4738-b69a-d1191d4e29dc",
   "metadata": {},
   "outputs": [
    {
     "name": "stdout",
     "output_type": "stream",
     "text": [
      "<class 'float'>\n"
     ]
    }
   ],
   "source": [
    "numero_real = 22.0\n",
    "print(type(numero_real))"
   ]
  },
  {
   "cell_type": "code",
   "execution_count": 26,
   "id": "1e513122-9a8d-4d37-a6e3-432ebd73da58",
   "metadata": {},
   "outputs": [
    {
     "data": {
      "text/plain": [
       "float"
      ]
     },
     "execution_count": 26,
     "metadata": {},
     "output_type": "execute_result"
    }
   ],
   "source": [
    "numero_real_decimales = 22.45123\n",
    "type(numero_real_decimales)"
   ]
  },
  {
   "cell_type": "code",
   "execution_count": 30,
   "id": "aafcdd5b-b537-49fb-8b6b-5af8c99ebaa3",
   "metadata": {},
   "outputs": [
    {
     "name": "stdout",
     "output_type": "stream",
     "text": [
      "Sumas y restas\n",
      "3\n",
      "3.0\n",
      "-1.0\n"
     ]
    }
   ],
   "source": [
    "print(\"Sumas y restas\")\n",
    "print(1 + 2)\n",
    "print(1.0 + 2) # fijate que cuando sumo float con int devuelve un float\n",
    "print(1.0 - 2) #siempre que opero float e int dará float como tipo de resultado"
   ]
  },
  {
   "cell_type": "code",
   "execution_count": 35,
   "id": "475e66bf-c3b2-4d67-9b1b-57ff4ca09cb3",
   "metadata": {},
   "outputs": [
    {
     "name": "stdout",
     "output_type": "stream",
     "text": [
      "Mult y divisiones\n",
      "4\n",
      "4.0\n",
      "1.0\n"
     ]
    }
   ],
   "source": [
    "print(\"Mult y divisiones\")\n",
    "print(2 * 2)\n",
    "print(2.0 * 2)\n",
    "print(2 / 2) #El tipo de resultado de una división siempre es float"
   ]
  },
  {
   "cell_type": "code",
   "execution_count": 38,
   "id": "925cc345-8726-489b-8695-852f62b20b34",
   "metadata": {},
   "outputs": [
    {
     "name": "stdout",
     "output_type": "stream",
     "text": [
      "Resto división\n",
      "3.3333333333333335\n",
      "3\n",
      "1\n",
      "3\n"
     ]
    }
   ],
   "source": [
    "print(\"Resto división\")\n",
    "print(10/3)\n",
    "print(int(10/3)) # No redondea\n",
    "print(10 % 3)\n",
    "print(10 // 3)"
   ]
  },
  {
   "cell_type": "code",
   "execution_count": 41,
   "id": "e980511d-ae1d-4fcc-b69f-3f4a6a844299",
   "metadata": {},
   "outputs": [
    {
     "name": "stdout",
     "output_type": "stream",
     "text": [
      "¿Es 45678910 par'\n",
      "El resto es 0\n",
      "Es par\n"
     ]
    }
   ],
   "source": [
    "n = 45678910\n",
    "print(\"¿Es\" , n, \"par'\")\n",
    "resto = n%2\n",
    "print(\"El resto es\", resto)\n",
    "if resto == 0:\n",
    "    print(\"Es par\")\n",
    "else: \n",
    "    print(\"Es impar\")"
   ]
  },
  {
   "cell_type": "markdown",
   "id": "a93b02b9-c493-414c-8ae6-15f3d88a9471",
   "metadata": {},
   "source": [
    "## Strings "
   ]
  },
  {
   "cell_type": "code",
   "execution_count": 44,
   "id": "10ac9261-f2d0-45a5-b77f-7e9da29da0f0",
   "metadata": {},
   "outputs": [
    {
     "name": "stdout",
     "output_type": "stream",
     "text": [
      "Esto es una variable de tipo string\n",
      "Esto es una variable de tipo tring en comillas simples\n"
     ]
    }
   ],
   "source": [
    "# Con comillas dobles\n",
    "cadena = \"Esto es una variable de tipo string\"\n",
    "\n",
    "# Con comillas simples\n",
    "cadena_2 = 'Esto es una variable de tipo tring en comillas simples'\n",
    "print(cadena)\n",
    "print(cadena_2)"
   ]
  },
  {
   "cell_type": "code",
   "execution_count": 47,
   "id": "9c03020b-010c-4176-92a0-69c735d9d7fc",
   "metadata": {},
   "outputs": [
    {
     "name": "stdout",
     "output_type": "stream",
     "text": [
      "String con 'Simples'\n",
      "String con 'Simples o dobles\"\n"
     ]
    }
   ],
   "source": [
    "print(\"String con 'Simples'\")\n",
    "# O al reves\n",
    "print(\"String con \\'Simples o dobles\\\"\")"
   ]
  },
  {
   "cell_type": "code",
   "execution_count": 49,
   "id": "68421cf6-88a7-4f86-ac6a-1dc6e3da1b5b",
   "metadata": {},
   "outputs": [
    {
     "name": "stdout",
     "output_type": "stream",
     "text": [
      "Primera linea\n",
      "Segunda lines\n",
      "\tTercera linea, tabulada\n"
     ]
    }
   ],
   "source": [
    "print(\"Primera linea\\nSegunda lines\\n\\tTercera linea, tabulada\")\n",
    "# \\n Bajar línea y \\t tabularla "
   ]
  },
  {
   "cell_type": "code",
   "execution_count": 52,
   "id": "6498d4aa-da22-4fb3-9ba4-2abb3aa424da",
   "metadata": {},
   "outputs": [
    {
     "name": "stdout",
     "output_type": "stream",
     "text": [
      "Primera linea\n",
      "Segunda linea\n",
      "\tTercera linea , tabulada\n"
     ]
    }
   ],
   "source": [
    "mi_string = \"Primera linea\\nSegunda linea\\n\\tTercera linea , tabulada\"\n",
    "print(mi_string)"
   ]
  },
  {
   "cell_type": "code",
   "execution_count": 55,
   "id": "92484d22-1ba9-481e-a202-a9d5a4d7f012",
   "metadata": {},
   "outputs": [
    {
     "name": "stdout",
     "output_type": "stream",
     "text": [
      "Antonio Scott\n"
     ]
    }
   ],
   "source": [
    "nombre = \"Antonio\"\n",
    "apellido = \"Scott\"\n",
    "nombre_apellido= nombre + \" \" + apellido\n",
    "print(nombre_apellido)"
   ]
  },
  {
   "cell_type": "markdown",
   "id": "678e3c6c-ebf1-4a14-9966-4e63b842f23f",
   "metadata": {},
   "source": [
    "## Booleano"
   ]
  },
  {
   "cell_type": "code",
   "execution_count": 57,
   "id": "5a379720-d870-4a97-9430-95a810b66b7b",
   "metadata": {},
   "outputs": [
    {
     "data": {
      "text/plain": [
       "True"
      ]
     },
     "execution_count": 57,
     "metadata": {},
     "output_type": "execute_result"
    }
   ],
   "source": [
    "True"
   ]
  },
  {
   "cell_type": "code",
   "execution_count": 58,
   "id": "1640a3c1-660b-4421-ae18-b12ce63aa0d3",
   "metadata": {},
   "outputs": [
    {
     "data": {
      "text/plain": [
       "False"
      ]
     },
     "execution_count": 58,
     "metadata": {},
     "output_type": "execute_result"
    }
   ],
   "source": [
    "False"
   ]
  },
  {
   "cell_type": "code",
   "execution_count": 59,
   "id": "58c57a69-0643-47d6-8244-71b3891b0421",
   "metadata": {},
   "outputs": [
    {
     "data": {
      "text/plain": [
       "False"
      ]
     },
     "execution_count": 59,
     "metadata": {},
     "output_type": "execute_result"
    }
   ],
   "source": [
    "dinerito = 5\n",
    "dinerito >= 15"
   ]
  },
  {
   "cell_type": "code",
   "execution_count": 61,
   "id": "585ec9c4-b2d4-4379-bc11-c4b77431a5d1",
   "metadata": {},
   "outputs": [
    {
     "name": "stdout",
     "output_type": "stream",
     "text": [
      "True\n"
     ]
    }
   ],
   "source": [
    "dinerito = 15 \n",
    "cond_1 = dinerito >= 15\n",
    "print(cond_1)"
   ]
  }
 ],
 "metadata": {
  "kernelspec": {
   "display_name": "Python 3 (ipykernel)",
   "language": "python",
   "name": "python3"
  },
  "language_info": {
   "codemirror_mode": {
    "name": "ipython",
    "version": 3
   },
   "file_extension": ".py",
   "mimetype": "text/x-python",
   "name": "python",
   "nbconvert_exporter": "python",
   "pygments_lexer": "ipython3",
   "version": "3.13.7"
  }
 },
 "nbformat": 4,
 "nbformat_minor": 5
}
