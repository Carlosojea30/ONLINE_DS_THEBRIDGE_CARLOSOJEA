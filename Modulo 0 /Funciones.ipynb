{
 "cells": [
  {
   "cell_type": "markdown",
   "id": "5a8269d9-dfc8-4070-84e1-e166486ffc5b",
   "metadata": {},
   "source": [
    "# Funciones"
   ]
  },
  {
   "cell_type": "code",
   "execution_count": 7,
   "id": "79442ec6-7900-4cca-a4ed-b16fd67eddbd",
   "metadata": {},
   "outputs": [],
   "source": [
    "def conversor_km_millas(distancia):\n",
    "    millas = 0.62 * distancia\n",
    "    return round(millas,1)"
   ]
  },
  {
   "cell_type": "code",
   "execution_count": 8,
   "id": "0c13944b-d673-47f2-a7ac-0493ba7ef605",
   "metadata": {},
   "outputs": [
    {
     "data": {
      "text/plain": [
       "124.0"
      ]
     },
     "execution_count": 8,
     "metadata": {},
     "output_type": "execute_result"
    }
   ],
   "source": [
    "conversor_km_millas(200)"
   ]
  },
  {
   "cell_type": "code",
   "execution_count": 10,
   "id": "97210f99-a3e0-45b8-9b29-ef1e0293a109",
   "metadata": {},
   "outputs": [
    {
     "name": "stdout",
     "output_type": "stream",
     "text": [
      "136.4\n"
     ]
    }
   ],
   "source": [
    "millas = conversor_km_millas(220)\n",
    "print(millas)"
   ]
  },
  {
   "cell_type": "code",
   "execution_count": 14,
   "id": "8ab84afc-04c8-469f-8d1c-9c6096e8228f",
   "metadata": {},
   "outputs": [
    {
     "name": "stdout",
     "output_type": "stream",
     "text": [
      "18:28:29.880540\n"
     ]
    }
   ],
   "source": [
    "from datetime import datetime\n",
    "\n",
    "def que_hora_es():\n",
    "    now = datetime.now().time()\n",
    "    return now\n",
    "\n",
    "print(que_hora_es())"
   ]
  },
  {
   "cell_type": "markdown",
   "id": "05992f91-7a33-4ffe-ac1d-5f1965086951",
   "metadata": {},
   "source": [
    "## Return"
   ]
  },
  {
   "cell_type": "code",
   "execution_count": 15,
   "id": "36cebdd8-4e96-4db1-a53a-54434f585c6c",
   "metadata": {},
   "outputs": [],
   "source": [
    "from datetime import datetime\n",
    "\n",
    "def que_hora_es():\n",
    "    now = datetime.now().time()\n",
    "    print(now)\n"
   ]
  },
  {
   "cell_type": "code",
   "execution_count": 17,
   "id": "20931d05-b3de-4b30-8d71-66558949349f",
   "metadata": {},
   "outputs": [
    {
     "name": "stdout",
     "output_type": "stream",
     "text": [
      "18:38:51.198917\n",
      "None <class 'NoneType'>\n"
     ]
    }
   ],
   "source": [
    "hora = que_hora_es()\n",
    "print(hora, type(hora))"
   ]
  },
  {
   "cell_type": "code",
   "execution_count": 18,
   "id": "473f6e75-0c9c-4c43-bd0e-d885def6d96a",
   "metadata": {},
   "outputs": [],
   "source": [
    "def conversor_km_millas(distancia):\n",
    "    millas = 0.62 * distancia\n",
    "    metros = 1000 * distancia\n",
    "    return round(millas,1), millas, metros"
   ]
  },
  {
   "cell_type": "code",
   "execution_count": 20,
   "id": "88665145-5fbf-4852-8e71-a86050494a7a",
   "metadata": {},
   "outputs": [
    {
     "name": "stdout",
     "output_type": "stream",
     "text": [
      "(1377.0, 1377.02, 2221000)\n",
      "<class 'tuple'>\n"
     ]
    }
   ],
   "source": [
    "salida = conversor_km_millas(2221)\n",
    "print(salida)\n",
    "print(type(salida))"
   ]
  },
  {
   "cell_type": "code",
   "execution_count": 21,
   "id": "03489435-66ee-4803-9e15-56f924b276b1",
   "metadata": {},
   "outputs": [],
   "source": [
    "def recibe_mix(tupla, lista, diccionario):\n",
    "    print(\"tupla contiene:\")\n",
    "    print(tupla)\n",
    "    print(\"y es de tipo:\", type(tupla))\n",
    "\n",
    "    print(\"lista contiene:\")\n",
    "    print(lista)\n",
    "    print(\"y es de tipo:\", type(lista))\n",
    "\n",
    "    print(\"diccionario contiene:\")\n",
    "    print(diccionario)\n",
    "    print(\"y es de tipo:\", type(diccionario))\n",
    "\n",
    "    return [type(tupla), type(lista), type(diccionario)]"
   ]
  },
  {
   "cell_type": "code",
   "execution_count": 22,
   "id": "2ab10079-2ef7-4430-bf34-a83aa755ccca",
   "metadata": {},
   "outputs": [
    {
     "name": "stdout",
     "output_type": "stream",
     "text": [
      "tupla contiene:\n",
      "(12, 34, 23)\n",
      "y es de tipo: <class 'tuple'>\n",
      "lista contiene:\n",
      "['Esto', 'es', 'una', 'lista']\n",
      "y es de tipo: <class 'list'>\n",
      "diccionario contiene:\n",
      "{'key1': 'valor1'}\n",
      "y es de tipo: <class 'dict'>\n",
      "[<class 'tuple'>, <class 'list'>, <class 'dict'>]\n"
     ]
    }
   ],
   "source": [
    "resultado = recibe_mix((12, 34, 23), [\"Esto\", \"es\", \"una\", \"lista\"], {\"key1\": \"valor1\"})\n",
    "print(resultado)"
   ]
  },
  {
   "cell_type": "code",
   "execution_count": null,
   "id": "c92c7308-4520-409b-a272-694cb537cebb",
   "metadata": {},
   "outputs": [],
   "source": []
  }
 ],
 "metadata": {
  "kernelspec": {
   "display_name": "Python 3 (ipykernel)",
   "language": "python",
   "name": "python3"
  },
  "language_info": {
   "codemirror_mode": {
    "name": "ipython",
    "version": 3
   },
   "file_extension": ".py",
   "mimetype": "text/x-python",
   "name": "python",
   "nbconvert_exporter": "python",
   "pygments_lexer": "ipython3",
   "version": "3.13.7"
  }
 },
 "nbformat": 4,
 "nbformat_minor": 5
}
