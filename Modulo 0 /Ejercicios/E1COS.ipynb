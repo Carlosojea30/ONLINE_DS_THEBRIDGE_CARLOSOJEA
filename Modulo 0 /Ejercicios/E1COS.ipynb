{
 "cells": [
  {
   "cell_type": "markdown",
   "id": "e4c8805a-0df2-4802-acbd-aff8a0707e68",
   "metadata": {},
   "source": [
    "# EJERCICIOS MARKDOWN (I) Carlos Ojea Sánchez Octubre 2025 The_Bridge"
   ]
  },
  {
   "cell_type": "markdown",
   "id": "d37c1582-89e6-42b5-a3b0-1e05ef2493fa",
   "metadata": {},
   "source": [
    "### Ejercicio 1: Cabeceras"
   ]
  },
  {
   "cell_type": "markdown",
   "id": "f58cb12b-1477-4162-bc2f-ae450567bdf7",
   "metadata": {},
   "source": [
    "# Ciencia de Datos\n",
    "## Introducción \n",
    "### Herramientas"
   ]
  },
  {
   "cell_type": "markdown",
   "id": "2fc9b1e4-0a79-4a8c-939d-b0a71f94c5d3",
   "metadata": {},
   "source": [
    "### Ejercicio 2: Estilo de texto"
   ]
  },
  {
   "cell_type": "markdown",
   "id": "232d8ab3-242e-4ecc-9f95-32ee22a03964",
   "metadata": {},
   "source": [
    "Estoy haciendo mi primera prueba usando **Markdown**.    \n",
    "Me ha sorprendido mucho *Jupyter*.    \n",
    "A ver mañana ***Phyton***."
   ]
  },
  {
   "cell_type": "markdown",
   "id": "471c58f3-305d-4b1e-96d7-7b02a7c1c2d6",
   "metadata": {},
   "source": [
    "## Ejercicio 3 Resaltados y HTML"
   ]
  },
  {
   "cell_type": "markdown",
   "id": "69cda242-c528-4e03-9b4e-bad7e95acf6a",
   "metadata": {},
   "source": [
    "`resaltado`  \n",
    "<font color=\"blue\"> color </font>"
   ]
  },
  {
   "cell_type": "markdown",
   "id": "e763d788-9cdc-4b65-85c9-15401f5b70a2",
   "metadata": {},
   "source": [
    "## Ejercicio 4: Citar"
   ]
  },
  {
   "cell_type": "markdown",
   "id": "7b91547e-2558-46f3-a483-41b143b15565",
   "metadata": {},
   "source": [
    ">La Ciencia de datos es el pretróleo del siglo XXI\n",
    ">>La Ciencia de datos es el petróleo del siglo XXI"
   ]
  },
  {
   "cell_type": "markdown",
   "id": "c2cae3e3-1ecd-4a0e-bf3e-5e8f020eb5f7",
   "metadata": {},
   "source": [
    "## Ejercicio 5: Combinando todo"
   ]
  },
  {
   "cell_type": "markdown",
   "id": "9aab1515-9e73-435c-864f-92a75f59090f",
   "metadata": {},
   "source": [
    "## Curso de Markdown  \n",
    "Lo mas **importante** es aprender.  \n",
    "> Creceré mucho en el bootcamp.\n",
    "<span style=\"background-color:green\"><i>ejemplo<i></span>  "
   ]
  },
  {
   "cell_type": "code",
   "execution_count": null,
   "id": "f218df70-fd93-4c2e-9f5c-f144b26c7150",
   "metadata": {},
   "outputs": [],
   "source": []
  },
  {
   "cell_type": "code",
   "execution_count": null,
   "id": "5e5534fa-b1a9-40e3-b245-4dd0fee9210f",
   "metadata": {},
   "outputs": [],
   "source": []
  }
 ],
 "metadata": {
  "kernelspec": {
   "display_name": "Python 3 (ipykernel)",
   "language": "python",
   "name": "python3"
  },
  "language_info": {
   "codemirror_mode": {
    "name": "ipython",
    "version": 3
   },
   "file_extension": ".py",
   "mimetype": "text/x-python",
   "name": "python",
   "nbconvert_exporter": "python",
   "pygments_lexer": "ipython3",
   "version": "3.13.7"
  }
 },
 "nbformat": 4,
 "nbformat_minor": 5
}
