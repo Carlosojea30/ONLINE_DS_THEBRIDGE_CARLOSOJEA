{
 "cells": [
  {
   "cell_type": "markdown",
   "id": "c0b68298-7527-4646-baac-558ce36ca224",
   "metadata": {},
   "source": [
    "# EJERCICIOS MARKDOWN (II) Carlos Ojea Sánchez Octubre 2025 The_Bridge"
   ]
  },
  {
   "cell_type": "markdown",
   "id": "7fc2bce2-e911-489c-b347-e42619138e90",
   "metadata": {},
   "source": [
    "## Ejercicio 6: Listas"
   ]
  },
  {
   "cell_type": "markdown",
   "id": "d81ebe06-0385-4306-8702-38cabf62cf14",
   "metadata": {},
   "source": [
    "- Manzanas\n",
    "- Plátanos\n",
    "* Uvas"
   ]
  },
  {
   "cell_type": "markdown",
   "id": "3ae9c7a5-869c-4d84-be32-d66fb7e64184",
   "metadata": {},
   "source": [
    "1. Árbol binario\n",
    "2. Random Forest\n",
    "3. Regresión Logística"
   ]
  },
  {
   "cell_type": "markdown",
   "id": "604c0bcc-4aac-4908-9e38-c6b062f761d2",
   "metadata": {},
   "source": [
    "## Ejercicio 7: Listas animadas"
   ]
  },
  {
   "cell_type": "markdown",
   "id": "d649b146-380b-4137-b9ff-ec55bd4413e2",
   "metadata": {},
   "source": [
    "### Frutas y Verduras\n",
    "\n",
    "1. Frutas\n",
    "   - Plátano\n",
    "   - Fresa\n",
    "   - Manzana\n",
    "\n",
    "2. Verduras\n",
    "   - Lechuga\n",
    "   - Zanahoria\n",
    "   - Brócoli"
   ]
  },
  {
   "cell_type": "markdown",
   "id": "b10d063f-97b1-4024-8732-0cbd216587bb",
   "metadata": {},
   "source": [
    "## Ejercicio 8: Encalces e imagenes"
   ]
  },
  {
   "cell_type": "markdown",
   "id": "d484bd30-7110-4f1a-a1a3-9354fad82479",
   "metadata": {},
   "source": [
    "[Por aquí se cruzan puentes](https://thebridge.tech/)"
   ]
  },
  {
   "cell_type": "markdown",
   "id": "e24ce606-5c3f-4997-95b3-d6a5146bbb02",
   "metadata": {},
   "source": [
    "![Prueba_The_Bridge](./img/the-bridge-1.png)"
   ]
  },
  {
   "cell_type": "markdown",
   "id": "2db0d80e-1710-4df0-83f4-279fba6ad8c2",
   "metadata": {},
   "source": [
    "## Ejercicio 9: Líneas horizontales y bloque de código"
   ]
  },
  {
   "cell_type": "markdown",
   "id": "ffbe73e2-74a4-49ea-8576-db0e1e3db8f9",
   "metadata": {},
   "source": [
    "---"
   ]
  },
  {
   "cell_type": "code",
   "execution_count": 4,
   "id": "31b79bc7-6889-4265-aa7f-bfe9354e161a",
   "metadata": {},
   "outputs": [
    {
     "name": "stdout",
     "output_type": "stream",
     "text": [
      "Hola Mundo\n"
     ]
    }
   ],
   "source": [
    "print(\"Hola Mundo\")"
   ]
  },
  {
   "cell_type": "markdown",
   "id": "e4e40d8f-a692-4698-98d4-8f5b590bd610",
   "metadata": {},
   "source": [
    "---"
   ]
  }
 ],
 "metadata": {
  "kernelspec": {
   "display_name": "Python 3 (ipykernel)",
   "language": "python",
   "name": "python3"
  },
  "language_info": {
   "codemirror_mode": {
    "name": "ipython",
    "version": 3
   },
   "file_extension": ".py",
   "mimetype": "text/x-python",
   "name": "python",
   "nbconvert_exporter": "python",
   "pygments_lexer": "ipython3",
   "version": "3.13.7"
  }
 },
 "nbformat": 4,
 "nbformat_minor": 5
}
