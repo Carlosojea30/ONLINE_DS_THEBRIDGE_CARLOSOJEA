{
 "cells": [
  {
   "cell_type": "markdown",
   "id": "27ad4f11-2b50-429d-9abc-042f06194432",
   "metadata": {},
   "source": [
    "# Argumentos posicionales y variables"
   ]
  },
  {
   "cell_type": "markdown",
   "id": "a3ce1be5-0ac2-4b2b-b702-d405b5d7ef86",
   "metadata": {},
   "source": [
    "# Posicionales"
   ]
  },
  {
   "cell_type": "code",
   "execution_count": 3,
   "id": "e75ebfb3-98be-494b-83ea-b171c378f74b",
   "metadata": {},
   "outputs": [
    {
     "data": {
      "text/plain": [
       "10.0"
      ]
     },
     "execution_count": 3,
     "metadata": {},
     "output_type": "execute_result"
    }
   ],
   "source": [
    "def multiplica(x1, x2, x3, x4):\n",
    "    resultado = (x1 * x2 * x3) / x4\n",
    "    return resultado\n",
    "\n",
    "multiplica(4,3,5,6)"
   ]
  },
  {
   "cell_type": "code",
   "execution_count": 4,
   "id": "3b7d63e3-8f14-4f96-af67-c202d2336beb",
   "metadata": {},
   "outputs": [
    {
     "data": {
      "text/plain": [
       "10.0"
      ]
     },
     "execution_count": 4,
     "metadata": {},
     "output_type": "execute_result"
    }
   ],
   "source": [
    "multiplica(x1=3,x4=6,x3=5,x2=4)"
   ]
  },
  {
   "cell_type": "code",
   "execution_count": 6,
   "id": "24ef48da-2c7d-4184-b8ae-bfee3f5b73be",
   "metadata": {},
   "outputs": [
    {
     "name": "stdout",
     "output_type": "stream",
     "text": [
      "division by zero\n",
      "Error en la función\n"
     ]
    }
   ],
   "source": [
    "try:\n",
    "    multiplica(x4=0,x1=3,x2=5,x3=12)\n",
    "except Exception as ex:\n",
    "    print(ex)\n",
    "    print(\"Error en la función\")"
   ]
  },
  {
   "cell_type": "code",
   "execution_count": 13,
   "id": "4364bbb0-35a8-47d8-8146-d00e7e5225b5",
   "metadata": {},
   "outputs": [],
   "source": [
    "def multiplica(x1, x2, x3, x4):\n",
    "    if x4 == 0:\n",
    "        print(\"Error: no puedo dividir entre 0, x4 invalido\")\n",
    "    else:\n",
    "        resultado = (x1 * x2 * x3) / x4\n",
    "        return resultado\n"
   ]
  },
  {
   "cell_type": "code",
   "execution_count": 14,
   "id": "c6f45858-b8b3-4919-b912-0fdebebabb2b",
   "metadata": {},
   "outputs": [
    {
     "name": "stdout",
     "output_type": "stream",
     "text": [
      "Error: no puedo dividir entre 0, x4 invalido\n"
     ]
    }
   ],
   "source": [
    "multiplica(x4=0,x1=3,x2=5,x3=12)"
   ]
  },
  {
   "cell_type": "markdown",
   "id": "2d77d7b6-660f-4ad5-b579-3541df3d56fe",
   "metadata": {},
   "source": [
    "# Variables"
   ]
  },
  {
   "cell_type": "code",
   "execution_count": 16,
   "id": "d68af0d3-1a69-4822-b89f-a04bf7b5b2ce",
   "metadata": {},
   "outputs": [
    {
     "name": "stdout",
     "output_type": "stream",
     "text": [
      "(2, 3, 5)\n",
      "<class 'tuple'>\n",
      "(1, 2, 4, 67, 4)\n",
      "<class 'tuple'>\n"
     ]
    }
   ],
   "source": [
    "def multiplica(*argumentos):\n",
    "    print(argumentos)\n",
    "    print(type(argumentos))\n",
    "\n",
    "multiplica(2,3,5)\n",
    "multiplica(1,2,4,67,4)"
   ]
  },
  {
   "cell_type": "code",
   "execution_count": 23,
   "id": "486adb3b-eb46-4558-b80e-07634cc3101a",
   "metadata": {},
   "outputs": [
    {
     "name": "stdout",
     "output_type": "stream",
     "text": [
      "El siguiente elemento es 2\n",
      "El siguiente elemento es 4\n",
      "El siguiente elemento es 5\n",
      "El resultado es 40\n",
      "El siguiente elemento es 23\n",
      "El siguiente elemento es 12\n",
      "El resultado es 276\n",
      "El resultado es 1\n"
     ]
    },
    {
     "data": {
      "text/plain": [
       "1"
      ]
     },
     "execution_count": 23,
     "metadata": {},
     "output_type": "execute_result"
    }
   ],
   "source": [
    "def multiplica(*args):\n",
    "    resultado = 1\n",
    "    for indice, elemento in enumerate(args): \n",
    "        print(\"El siguiente elemento es\", args[indice])\n",
    "        resultado = resultado * elemento\n",
    "    print(\"El resultado es\", resultado)\n",
    "    return resultado\n",
    "\n",
    "multiplica(2,4,5)\n",
    "multiplica(23,12)\n",
    "multiplica()"
   ]
  },
  {
   "cell_type": "code",
   "execution_count": 25,
   "id": "9d46f0cf-4651-40f1-94ad-2ef8f402ccb4",
   "metadata": {},
   "outputs": [
    {
     "data": {
      "text/plain": [
       "1428.0"
      ]
     },
     "execution_count": 25,
     "metadata": {},
     "output_type": "execute_result"
    }
   ],
   "source": [
    "def multiplica_divide(*args,div):\n",
    "    resultado = 1\n",
    "    for i in args:\n",
    "        resultado = resultado * i \n",
    "    resultado = resultado / div \n",
    "    return resultado \n",
    "\n",
    "multiplica_divide(10,34,21,div = 5)"
   ]
  },
  {
   "cell_type": "code",
   "execution_count": 29,
   "id": "1751d58c-aaa2-4290-9d4a-c88f512835b0",
   "metadata": {},
   "outputs": [
    {
     "ename": "TypeError",
     "evalue": "multiplica_divide() got multiple values for argument 'div'",
     "output_type": "error",
     "traceback": [
      "\u001b[31m---------------------------------------------------------------------------\u001b[39m",
      "\u001b[31mTypeError\u001b[39m                                 Traceback (most recent call last)",
      "\u001b[36mCell\u001b[39m\u001b[36m \u001b[39m\u001b[32mIn[29]\u001b[39m\u001b[32m, line 8\u001b[39m\n\u001b[32m      5\u001b[39m     resultado = resultado / div \n\u001b[32m      6\u001b[39m     \u001b[38;5;28;01mreturn\u001b[39;00m resultado \n\u001b[32m----> \u001b[39m\u001b[32m8\u001b[39m \u001b[43mmultiplica_divide\u001b[49m\u001b[43m(\u001b[49m\u001b[32;43m10\u001b[39;49m\u001b[43m,\u001b[49m\u001b[32;43m34\u001b[39;49m\u001b[43m,\u001b[49m\u001b[32;43m21\u001b[39;49m\u001b[43m,\u001b[49m\u001b[43m \u001b[49m\u001b[43mdiv\u001b[49m\u001b[43m=\u001b[49m\u001b[32;43m5\u001b[39;49m\u001b[43m)\u001b[49m\n",
      "\u001b[31mTypeError\u001b[39m: multiplica_divide() got multiple values for argument 'div'"
     ]
    }
   ],
   "source": [
    "def multiplica_divide(div, *args):\n",
    "    resultado = 1\n",
    "    for i in args:\n",
    "        resultado = resultado * i \n",
    "    resultado = resultado / div \n",
    "    return resultado \n",
    "\n",
    "multiplica_divide(10,34,21, div=5)"
   ]
  },
  {
   "cell_type": "markdown",
   "id": "1dbe8572-0a50-4bbd-b57b-2eb936697203",
   "metadata": {},
   "source": [
    "## Argumentos clave-valor"
   ]
  },
  {
   "cell_type": "code",
   "execution_count": 30,
   "id": "9c3c431b-d667-45be-a66d-0ad4d9abe422",
   "metadata": {},
   "outputs": [
    {
     "name": "stdout",
     "output_type": "stream",
     "text": [
      "<class 'dict'>\n",
      "{'modelo': 'S20', 'marca': 'Samsung', 'camara': '24MPX'}\n"
     ]
    }
   ],
   "source": [
    "def insertar_movil_bd(**clave_valor):\n",
    "    print(type(clave_valor))\n",
    "    print(clave_valor)\n",
    "\n",
    "insertar_movil_bd( modelo = \"S20\", marca = \"Samsung\", camara = \"24MPX\")"
   ]
  },
  {
   "cell_type": "code",
   "execution_count": 35,
   "id": "59ae9bb8-58e3-4bbf-babf-26e96ebf3417",
   "metadata": {},
   "outputs": [
    {
     "name": "stdout",
     "output_type": "stream",
     "text": [
      "modelo : S20\n",
      "marca : Samsung\n",
      "camara : 24MPX\n"
     ]
    }
   ],
   "source": [
    "def insertar_movil_bd(**kwargs):\n",
    "    for clave,valor in kwargs.items():\n",
    "        print(clave, \":\", valor)\n",
    "\n",
    "insertar_movil_bd( modelo = \"S20\", marca = \"Samsung\", camara = \"24MPX\")"
   ]
  },
  {
   "cell_type": "code",
   "execution_count": 38,
   "id": "51bc5e43-1b83-4a6c-a482-0118ff98656d",
   "metadata": {},
   "outputs": [
    {
     "name": "stdout",
     "output_type": "stream",
     "text": [
      "Es muy bueno\n",
      "La leche\n"
     ]
    }
   ],
   "source": [
    "def insertar_movil(*args, **kwargs):\n",
    "    for i in args:\n",
    "        print(i)\n",
    "\n",
    "insertar_movil(\"Es muy bueno\", \"La leche\")"
   ]
  },
  {
   "cell_type": "code",
   "execution_count": 42,
   "id": "58e4687e-a217-4650-86ff-3fd3f2a0b49f",
   "metadata": {},
   "outputs": [
    {
     "name": "stdout",
     "output_type": "stream",
     "text": [
      "Su pedido de Televisión LG se entregará el 12/12/2023\n",
      "Pongase en contacto con atención al cliente\n",
      "Su pedido de iMac23 se entregará el 10/11/2023\n"
     ]
    }
   ],
   "source": [
    "def pedido_online(pedido, fecha, incidencia = False):\n",
    "    if incidencia == True:\n",
    "        print(\"Pongase en contacto con atención al cliente\")\n",
    "    print(\"Su pedido de\", pedido, \"se entregará el\", fecha)\n",
    "\n",
    "pedido_online(\"Televisión LG\", \"12/12/2023\")\n",
    "pedido_online(\"iMac23\", \"10/11/2023\", incidencia =True)"
   ]
  },
  {
   "cell_type": "code",
   "execution_count": null,
   "id": "2de3cad4-62fd-4606-918f-25f3f9375d5e",
   "metadata": {},
   "outputs": [],
   "source": []
  }
 ],
 "metadata": {
  "kernelspec": {
   "display_name": "Python 3 (ipykernel)",
   "language": "python",
   "name": "python3"
  },
  "language_info": {
   "codemirror_mode": {
    "name": "ipython",
    "version": 3
   },
   "file_extension": ".py",
   "mimetype": "text/x-python",
   "name": "python",
   "nbconvert_exporter": "python",
   "pygments_lexer": "ipython3",
   "version": "3.13.7"
  }
 },
 "nbformat": 4,
 "nbformat_minor": 5
}
