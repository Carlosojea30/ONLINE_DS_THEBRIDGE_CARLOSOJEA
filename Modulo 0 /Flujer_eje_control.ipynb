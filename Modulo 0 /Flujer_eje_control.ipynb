{
 "cells": [
  {
   "cell_type": "markdown",
   "id": "258aa6e6-f901-473b-8a31-a07c4995d519",
   "metadata": {},
   "source": [
    "# Flujos de ejecucion y control"
   ]
  },
  {
   "cell_type": "markdown",
   "id": "68d0e068-7017-41ef-b0ab-595ab3549938",
   "metadata": {},
   "source": [
    "### Sitaxis de línea"
   ]
  },
  {
   "cell_type": "code",
   "execution_count": 14,
   "id": "306898cb-69c4-477a-9153-ca36967c05ef",
   "metadata": {},
   "outputs": [
    {
     "name": "stdout",
     "output_type": "stream",
     "text": [
      "Suspenso\n",
      "Finaliza ejecución\n"
     ]
    }
   ],
   "source": [
    "nota = 3\n",
    "if nota >= 5:\n",
    "    print(\"Aprobado\")\n",
    "else:\n",
    "    print(\"Suspenso\")\n",
    "print(\"Finaliza ejecución\")"
   ]
  },
  {
   "cell_type": "code",
   "execution_count": 3,
   "id": "22167038-7780-46d7-b693-dbd588f012c4",
   "metadata": {},
   "outputs": [
    {
     "ename": "IndentationError",
     "evalue": "expected an indented block after 'if' statement on line 4 (1791006646.py, line 5)",
     "output_type": "error",
     "traceback": [
      "  \u001b[36mCell\u001b[39m\u001b[36m \u001b[39m\u001b[32mIn[3]\u001b[39m\u001b[32m, line 5\u001b[39m\n\u001b[31m    \u001b[39m\u001b[31mprint(\"Aprobado\")\u001b[39m\n    ^\n\u001b[31mIndentationError\u001b[39m\u001b[31m:\u001b[39m expected an indented block after 'if' statement on line 4\n"
     ]
    }
   ],
   "source": [
    "# Errores: No tabular\n",
    "nota = 7\n",
    "\n",
    "if nota >= 5:\n",
    "print(\"Aprobado\")\n",
    "else:\n",
    "print(\"Suspenso\")\n",
    "print(\"Finaliza ejecución\")"
   ]
  },
  {
   "cell_type": "code",
   "execution_count": 4,
   "id": "ee6ca0e1-b993-4075-8d28-de2764172e69",
   "metadata": {},
   "outputs": [
    {
     "name": "stdout",
     "output_type": "stream",
     "text": [
      "Iteración for\n",
      "El numero 4 es un entero\n",
      "Iteración for\n",
      "El numero 6 es un entero\n",
      "Iteración for\n",
      "Iteración for\n",
      "Finaliza ejecución\n"
     ]
    }
   ],
   "source": [
    "numeros = [4, 6, 4.0, 3.0]\n",
    "\n",
    "for num in numeros:\n",
    "    print(\"Iteración for\")\n",
    "    if type(num) == int:\n",
    "        print(\"El numero\", num, \"es un entero\")\n",
    "print(\"Finaliza ejecución\")"
   ]
  },
  {
   "cell_type": "markdown",
   "id": "017c98d4-c9ef-44a2-9558-948445cddae6",
   "metadata": {},
   "source": [
    "### If/Else/Elif"
   ]
  },
  {
   "cell_type": "code",
   "execution_count": 5,
   "id": "b856c9e7-0302-4a2e-8dcd-03cff70b20c6",
   "metadata": {},
   "outputs": [
    {
     "name": "stdout",
     "output_type": "stream",
     "text": [
      "A septiembre\n"
     ]
    }
   ],
   "source": [
    "mi_nota = 3\n",
    "\n",
    "if mi_nota < 5:\n",
    "    print(\"A septiembre\")\n",
    "\n",
    "elif mi_nota > 10:\n",
    "    print(\"Error. Es hasta 10\")\n",
    "\n",
    "else:\n",
    "    print(\"Aprobado\")"
   ]
  },
  {
   "cell_type": "code",
   "execution_count": 7,
   "id": "8cd58cde-158b-4f80-b6dd-a5caa84fe2d1",
   "metadata": {},
   "outputs": [
    {
     "name": "stdin",
     "output_type": "stream",
     "text": [
      "Ingrese un día de la semana:  Martes\n"
     ]
    },
    {
     "name": "stdout",
     "output_type": "stream",
     "text": [
      "La tarea para Martes es: Ir al gimnasio\n"
     ]
    }
   ],
   "source": [
    "day = input(\"Ingrese un día de la semana: \")\n",
    "\n",
    "# Usando match case\n",
    "match day.lower():\n",
    "    case \"lunes\":\n",
    "        task = \"Hacer la compra\"\n",
    "    case \"martes\":\n",
    "        task = \"Ir al gimnasio\"\n",
    "    case \"miércoles\":\n",
    "        task = \"Estudiar Python\"\n",
    "    case \"jueves\":\n",
    "        task = \"Llamar a mamá\"\n",
    "    case \"viernes\":\n",
    "        task = \"Ver una película\"\n",
    "    case \"sábado\":\n",
    "        task = \"Salir con amigos\"\n",
    "    case \"domingo\":\n",
    "        task = \"Relajarse en casa\"\n",
    "    case _:\n",
    "        task = \"Ese día no es válido\"\n",
    "\n",
    "print(f\"La tarea para {day} es: {task}\")"
   ]
  },
  {
   "cell_type": "markdown",
   "id": "3ca85441-76f5-491b-8d29-d051abd16a25",
   "metadata": {},
   "source": [
    "### Bucle"
   ]
  },
  {
   "cell_type": "code",
   "execution_count": 11,
   "id": "29445c5b-24d8-40ae-bca0-21c77ffebd83",
   "metadata": {},
   "outputs": [
    {
     "name": "stdout",
     "output_type": "stream",
     "text": [
      "3\n",
      "6\n",
      "9\n",
      "10\n",
      "Suspenso\n",
      "Aprobado\n",
      "Aprobado\n",
      "Aprobado\n"
     ]
    }
   ],
   "source": [
    "notas = [3, 6, 9, 10]\n",
    "\n",
    "print(notas[0])\n",
    "print(notas[1])\n",
    "print(notas[2])\n",
    "print(notas[3])\n"
   ]
  },
  {
   "cell_type": "code",
   "execution_count": 12,
   "id": "c086992a-8348-4759-9271-5034294f264d",
   "metadata": {},
   "outputs": [
    {
     "name": "stdout",
     "output_type": "stream",
     "text": [
      "Suspenso\n",
      "Aprobado\n",
      "Aprobado\n",
      "Aprobado\n"
     ]
    }
   ],
   "source": [
    "if notas[0] >= 5:\n",
    "    print(\"Aprobado\")\n",
    "else:\n",
    "    print(\"Suspenso\")\n",
    "\n",
    "if notas[1] >= 5:\n",
    "    print(\"Aprobado\")\n",
    "else:\n",
    "    print(\"Suspenso\")\n",
    "\n",
    "if notas[2] >= 5:\n",
    "    print(\"Aprobado\")\n",
    "else:\n",
    "    print(\"Suspenso\")\n",
    "\n",
    "if notas[3] >= 5:\n",
    "    print(\"Aprobado\")\n",
    "else:\n",
    "    print(\"Suspenso\")"
   ]
  },
  {
   "cell_type": "code",
   "execution_count": 13,
   "id": "305cdaab-b691-4266-98d0-ee9c12fb5c6c",
   "metadata": {},
   "outputs": [
    {
     "name": "stdout",
     "output_type": "stream",
     "text": [
      "Recorriendo nota 3\n",
      "Suspenso\n",
      "Recorriendo nota 6\n",
      "Aprobado\n",
      "Recorriendo nota 9\n",
      "Aprobado\n",
      "Recorriendo nota 10\n",
      "Aprobado\n"
     ]
    }
   ],
   "source": [
    "for nota in notas: # nota = notas[0...]\n",
    "    print(\"Recorriendo nota\", nota)\n",
    "    if nota >= 5:\n",
    "        print(\"Aprobado\")\n",
    "    else:\n",
    "        print(\"Suspenso\")"
   ]
  },
  {
   "cell_type": "markdown",
   "id": "3ae37a4e-bbef-4508-9588-1444a5f987b4",
   "metadata": {},
   "source": [
    "# Resumen:"
   ]
  },
  {
   "cell_type": "code",
   "execution_count": 15,
   "id": "68dd9542-5bb1-4d83-b6a3-9bd114d64e4a",
   "metadata": {},
   "outputs": [
    {
     "name": "stdout",
     "output_type": "stream",
     "text": [
      "Notable\n",
      "Lunes\n",
      "Martes\n",
      "Miércoles\n",
      "Jueves\n",
      "Viernes\n",
      "Sábado\n",
      "Domingo\n",
      "0\n",
      "1\n",
      "2\n",
      "3\n",
      "4\n",
      "s\n",
      "t\n",
      "r\n",
      "Fin\n",
      "El codigo tiene errores porque la variable 'variable_' no existe\n",
      "Continuo con el programa\n"
     ]
    }
   ],
   "source": [
    "# If/elif/else\n",
    "mi_nota_de_examen = 7\n",
    "\n",
    "if mi_nota_de_examen < 5 :\n",
    "    print(\"A septiembre :(\")\n",
    "\n",
    "elif mi_nota_de_examen < 6 :\n",
    "    print(\"Suficiente\")\n",
    "\n",
    "elif mi_nota_de_examen < 7 :\n",
    "    print(\"Bien\")\n",
    "\n",
    "elif mi_nota_de_examen < 9 :\n",
    "    print(\"Notable\")\n",
    "\n",
    "else:\n",
    "    print(\"Sobresaliente\")\n",
    "\n",
    "\n",
    "# Bucle for\n",
    "dias_semana = [\"Lunes\", \"Martes\", \"Miércoles\", \"Jueves\", \"Viernes\", \"Sábado\", \"Domingo\"]\n",
    "\n",
    "for dia in dias_semana:\n",
    "    print(dia)\n",
    "\n",
    "\n",
    "# Bucle while\n",
    "i = 0\n",
    "\n",
    "while(i < 5):\n",
    "    print(i)\n",
    "    i = i + 1\n",
    "\n",
    "\n",
    "# Break y continue\n",
    "for val in \"string\":\n",
    "    if val == \"i\":\n",
    "        break\n",
    "    print(val)\n",
    "\n",
    "print(\"Fin\")\n",
    "\n",
    "\n",
    "# Try/except\n",
    "try:\n",
    "  print(variable_)\n",
    "except:\n",
    "  print(\"El codigo tiene errores porque la variable 'variable_' no existe\")\n",
    "\n",
    "print(\"Continuo con el programa\")"
   ]
  },
  {
   "cell_type": "code",
   "execution_count": null,
   "id": "6f3555ee-c84e-4b3f-8988-e934a119e847",
   "metadata": {},
   "outputs": [],
   "source": []
  }
 ],
 "metadata": {
  "kernelspec": {
   "display_name": "Python 3 (ipykernel)",
   "language": "python",
   "name": "python3"
  },
  "language_info": {
   "codemirror_mode": {
    "name": "ipython",
    "version": 3
   },
   "file_extension": ".py",
   "mimetype": "text/x-python",
   "name": "python",
   "nbconvert_exporter": "python",
   "pygments_lexer": "ipython3",
   "version": "3.13.7"
  }
 },
 "nbformat": 4,
 "nbformat_minor": 5
}
