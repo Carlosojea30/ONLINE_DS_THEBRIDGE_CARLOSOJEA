{
 "cells": [
  {
   "cell_type": "markdown",
   "id": "a115b29a-7fda-4f44-8a51-9c24e246d000",
   "metadata": {},
   "source": [
    "# Clases"
   ]
  },
  {
   "cell_type": "code",
   "execution_count": 1,
   "id": "b9c5c493-db0e-4239-ba58-8794f2c1e144",
   "metadata": {},
   "outputs": [],
   "source": [
    "class Coche: \n",
    "    # Atributos y métodos, las cosas de la clase\n",
    "    pass "
   ]
  },
  {
   "cell_type": "code",
   "execution_count": 2,
   "id": "f6839e11-4df2-4c55-9ab7-c43104de91b0",
   "metadata": {},
   "outputs": [
    {
     "name": "stdout",
     "output_type": "stream",
     "text": [
      "<class 'type'>\n"
     ]
    }
   ],
   "source": [
    "print(type(Coche))\n"
   ]
  },
  {
   "cell_type": "code",
   "execution_count": 4,
   "id": "34dd8fce-d9b0-4250-a4cc-3df20a63e834",
   "metadata": {},
   "outputs": [
    {
     "name": "stdout",
     "output_type": "stream",
     "text": [
      "<class '__main__.Coche'>\n",
      "<__main__.Coche object at 0x1081db9d0>\n"
     ]
    }
   ],
   "source": [
    "primer_coche = Coche()\n",
    "print(type(primer_coche))\n",
    "print(primer_coche)"
   ]
  },
  {
   "cell_type": "code",
   "execution_count": 5,
   "id": "a1e72e1a-58ed-419d-a468-2e43da320dcd",
   "metadata": {},
   "outputs": [
    {
     "name": "stdout",
     "output_type": "stream",
     "text": [
      "False\n"
     ]
    }
   ],
   "source": [
    "citroen = Coche()\n",
    "peugeot = Coche()\n",
    "tesla = Coche()\n",
    "\n",
    "print(citroen == tesla)"
   ]
  },
  {
   "cell_type": "markdown",
   "id": "05346562-bdff-4653-9158-e2cfc77ee805",
   "metadata": {},
   "source": [
    "# Atributos"
   ]
  },
  {
   "cell_type": "code",
   "execution_count": 9,
   "id": "03aa7b97-1a97-405a-a40f-2ad6920650a7",
   "metadata": {},
   "outputs": [],
   "source": [
    "class Coche: \n",
    "    puertas = 4\n",
    "    ruedas = 4"
   ]
  },
  {
   "cell_type": "code",
   "execution_count": 10,
   "id": "f7646865-6121-4c38-9531-e976401d8125",
   "metadata": {},
   "outputs": [
    {
     "name": "stdout",
     "output_type": "stream",
     "text": [
      "4\n",
      "4\n"
     ]
    }
   ],
   "source": [
    "tesla = Coche()\n",
    "print(tesla.puertas)\n",
    "print(tesla.ruedas)"
   ]
  },
  {
   "cell_type": "code",
   "execution_count": 12,
   "id": "6de978f5-7bd2-4825-b7b5-53177c800fdc",
   "metadata": {},
   "outputs": [
    {
     "name": "stdout",
     "output_type": "stream",
     "text": [
      "3\n",
      "4\n",
      "4\n"
     ]
    }
   ],
   "source": [
    "mercedes = Coche()\n",
    "citroen = Coche()\n",
    "mercedes.puertas = 3\n",
    "\n",
    "print(mercedes.puertas)\n",
    "print(tesla.puertas)\n",
    "print(citroen.puertas)"
   ]
  },
  {
   "cell_type": "markdown",
   "id": "1f7c22d9-9ec3-403f-a743-99acd9107e1a",
   "metadata": {},
   "source": [
    "# Constructores"
   ]
  },
  {
   "cell_type": "code",
   "execution_count": 1,
   "id": "1b8d497b-81ba-4c35-a12c-7a552ab380c0",
   "metadata": {},
   "outputs": [],
   "source": [
    "class Coche:\n",
    "    puertas = 4\n",
    "    ruedas = 4\n",
    "\n",
    "    def __init__(self, marca_coche):\n",
    "        self.marca = marca_coche"
   ]
  },
  {
   "cell_type": "code",
   "execution_count": 2,
   "id": "1e2ef506-ddb3-4fd0-b094-5c8d7b940ef8",
   "metadata": {},
   "outputs": [
    {
     "name": "stdout",
     "output_type": "stream",
     "text": [
      "Tesla\n"
     ]
    }
   ],
   "source": [
    "tesla = Coche(\"Tesla\")\n",
    "print(tesla.marca)"
   ]
  },
  {
   "cell_type": "code",
   "execution_count": 3,
   "id": "19d2e9ba-43c1-4da4-9de2-14c89b355749",
   "metadata": {},
   "outputs": [
    {
     "name": "stdout",
     "output_type": "stream",
     "text": [
      "Mercedes\n",
      "Renault\n",
      "4\n",
      "4\n"
     ]
    }
   ],
   "source": [
    "mercedes = Coche(\"Mercedes\")\n",
    "renault = Coche(\"Renault\")\n",
    "print(mercedes.marca)\n",
    "print(renault.marca)\n",
    "print(mercedes.puertas)\n",
    "print(renault.puertas)"
   ]
  },
  {
   "cell_type": "code",
   "execution_count": 5,
   "id": "25d805f6-c568-4d71-a399-6eab943275e3",
   "metadata": {},
   "outputs": [],
   "source": [
    "# Cambiar puertas o ruedas\n",
    "class Coche:\n",
    "    puertas = 4\n",
    "    ruedas = 4\n",
    "\n",
    "    def __init__(self, marca_coche, num_puertas):\n",
    "        self.marca = marca_coche\n",
    "        self.puertas = num_puertas"
   ]
  },
  {
   "cell_type": "code",
   "execution_count": 6,
   "id": "c91b9c49-69e0-46d4-aba1-1e4db20482b6",
   "metadata": {},
   "outputs": [],
   "source": [
    "tesla = Coche(\"Tesla\",6)\n",
    "mercedes_500 = Coche(\"Mercedes\",8)"
   ]
  },
  {
   "cell_type": "code",
   "execution_count": 7,
   "id": "24d07446-dd0d-4ecc-88dd-c0ea73853ef3",
   "metadata": {},
   "outputs": [
    {
     "name": "stdout",
     "output_type": "stream",
     "text": [
      "6\n"
     ]
    }
   ],
   "source": [
    "print(tesla.puertas)"
   ]
  },
  {
   "cell_type": "markdown",
   "id": "628404a1-7f42-42e5-a3df-a30362bb9a6c",
   "metadata": {},
   "source": [
    "# Métodos"
   ]
  },
  {
   "cell_type": "code",
   "execution_count": 18,
   "id": "ea0927b5-0e65-4b83-890c-07702e382679",
   "metadata": {},
   "outputs": [],
   "source": [
    "class Coche:\n",
    "    ruedas = 4\n",
    "\n",
    "    def __init__(self, marca_coche, num_puertas = 4):\n",
    "        self.marca = marca_coche\n",
    "        self.puertas = num_puertas\n",
    "\n",
    "    def caracteristicas(self):\n",
    "        return \"Marca:\" + self.marca + \",Puertas:\" + str(self.puertas)"
   ]
  },
  {
   "cell_type": "code",
   "execution_count": 19,
   "id": "fd6f4c1a-2c5b-411e-84fc-982264a4cf2c",
   "metadata": {},
   "outputs": [
    {
     "data": {
      "text/plain": [
       "'Marca:Ford,Puertas:4'"
      ]
     },
     "execution_count": 19,
     "metadata": {},
     "output_type": "execute_result"
    }
   ],
   "source": [
    "ford_ka =Coche(\"Ford\")\n",
    "ford_ka.caracteristicas()"
   ]
  },
  {
   "cell_type": "code",
   "execution_count": 24,
   "id": "650f5730-0e1a-4be1-86ee-74227d5162f7",
   "metadata": {},
   "outputs": [],
   "source": [
    "class Coche:\n",
    "    ruedas = 4\n",
    "\n",
    "    def __init__(self, marca_coche, precio_coche, num_puertas = 4):\n",
    "        self.marca = marca_coche\n",
    "        self.puertas = num_puertas\n",
    "        self.precio = precio_coche\n",
    "\n",
    "    def caracteristicas(self):\n",
    "        return \"Marca:\" + self.marca + \",Puertas:\" + str(self.puertas)\n",
    "\n",
    "    def precio_actual(self, años):\n",
    "        if años <= 5:\n",
    "            return self.precio * 0.7\n",
    "        elif años > 5 and años < 10:\n",
    "            return self.precio * 0.5\n",
    "        else: \n",
    "            return self.precio * 0.3 \n",
    "        "
   ]
  },
  {
   "cell_type": "code",
   "execution_count": 26,
   "id": "6e5e3132-5d05-4c77-a59c-23e0b0dc34e6",
   "metadata": {},
   "outputs": [
    {
     "data": {
      "text/plain": [
       "17500.0"
      ]
     },
     "execution_count": 26,
     "metadata": {},
     "output_type": "execute_result"
    }
   ],
   "source": [
    "jeep_x = Coche(\"Jeep\", 35000)\n",
    "jeep_x.precio_actual(8)"
   ]
  },
  {
   "cell_type": "markdown",
   "id": "f707a6f4-673e-4070-ae15-8fea5b93b3e9",
   "metadata": {},
   "source": [
    "# Ejemplo"
   ]
  },
  {
   "cell_type": "code",
   "execution_count": 27,
   "id": "938225d1-1c8d-43cd-a840-7385a94481c9",
   "metadata": {},
   "outputs": [],
   "source": [
    "def añadir_libro(biblioteca, libro):\n",
    "    biblioteca.append(libro)\n",
    "\n",
    "def eliminar_libro(biblioteca, titulo):\n",
    "    biblioteca[:] = [libro for libro in biblioteca if libro['titulo'] != titulo]\n",
    "\n",
    "def buscar_libro(biblioteca, titulo):\n",
    "    for libro in biblioteca:\n",
    "        if libro['titulo'] == titulo:\n",
    "            return libro\n",
    "    return None\n",
    "\n",
    "def mostrar_libros(biblioteca):\n",
    "    for libro in biblioteca:\n",
    "        print(libro['titulo'])\n",
    "        print(libro['autor'])\n",
    "        print(\"****\")\n",
    "\n",
    "def guardar_biblioteca(biblioteca, fichero):\n",
    "    pass\n",
    "\n",
    "# Hipotetica función que guarda en disco mi biblioteca con sus libros"
   ]
  },
  {
   "cell_type": "code",
   "execution_count": 28,
   "id": "bd111321-ad59-48c8-84f9-e570dda86ea7",
   "metadata": {},
   "outputs": [
    {
     "name": "stdout",
     "output_type": "stream",
     "text": [
      "Buscamos '1984'\n",
      "{'titulo': '1984', 'autor': 'George Orwell'}\n",
      "\n",
      "Mostramos la biblioteca\n",
      "1984\n",
      "George Orwell\n",
      "****\n",
      "Brave New World\n",
      "Aldous Huxley\n",
      "****\n",
      "\n",
      "Eliminamos '1984'\n",
      "Mostramos como queda la biblioteca\n",
      "Brave New World\n",
      "Aldous Huxley\n",
      "****\n"
     ]
    }
   ],
   "source": [
    "# Ejemplo de Uso\n",
    "biblioteca = []\n",
    "añadir_libro(biblioteca, {'titulo': '1984', 'autor': 'George Orwell'})\n",
    "añadir_libro(biblioteca, {'titulo': 'Brave New World', 'autor': 'Aldous Huxley'})\n",
    "print(\"Buscamos '1984'\")\n",
    "print(buscar_libro(biblioteca, '1984'))  # {'titulo': '1984', 'autor': 'George Orwell'}\n",
    "print(\"\")\n",
    "print(\"Mostramos la biblioteca\")\n",
    "mostrar_libros(biblioteca)\n",
    "print(\"\")\n",
    "print(\"Eliminamos '1984'\")\n",
    "eliminar_libro(biblioteca, '1984')\n",
    "print(\"Mostramos como queda la biblioteca\")\n",
    "mostrar_libros(biblioteca)"
   ]
  },
  {
   "cell_type": "markdown",
   "id": "f4dc7ca6-9e7d-4192-8636-1cc703f294e4",
   "metadata": {},
   "source": [
    "## Resolución con OPP"
   ]
  },
  {
   "cell_type": "code",
   "execution_count": 30,
   "id": "579376f6-8bea-4963-92e0-715393e1f86e",
   "metadata": {},
   "outputs": [],
   "source": [
    "class Libro:\n",
    "    def __init__(self, titulo, autor):\n",
    "        self.titulo = titulo\n",
    "        self.autor = autor\n",
    "\n",
    "    def print_datos(self):\n",
    "        print(\"Titulo:\", self.titulo)\n",
    "        print(\"Autor:\", self.autor)\n",
    "        return self.titulo"
   ]
  },
  {
   "cell_type": "code",
   "execution_count": 31,
   "id": "182f5524-6e9d-4f48-a956-8100967f73fc",
   "metadata": {},
   "outputs": [],
   "source": [
    "class Biblioteca:\n",
    "    def __init__(self):\n",
    "        self.libros = []\n",
    "\n",
    "    def añadir_libro(self, libro):\n",
    "        self.libros.append(libro)\n",
    "\n",
    "    def eliminar_libro(self, titulo):\n",
    "        self.libros = [libro for libro in self.libros if libro.titulo != titulo]\n",
    "\n",
    "    def buscar_libro(self, titulo):\n",
    "        for libro in self.libros:\n",
    "            if libro.titulo == titulo:\n",
    "                libro.print_datos()\n",
    "                return libro\n",
    "        return None\n",
    "\n",
    "    def mostrar_libros(self):\n",
    "        for libro in self.libros:\n",
    "            libro.print_datos()\n",
    "\n",
    "    def guardar_biblioteca(self):\n",
    "        pass\n",
    "        # Método hipotético que guarda en disco mi blibioteca y sus libros"
   ]
  },
  {
   "cell_type": "code",
   "execution_count": 32,
   "id": "a9e82e08-8d3e-4aa6-97ab-57b45c07e405",
   "metadata": {},
   "outputs": [
    {
     "name": "stdout",
     "output_type": "stream",
     "text": [
      "Buscamos 1984:\n",
      "Titulo: 1984\n",
      "Autor: George Orwell\n",
      " \n",
      "Mostramos la biblioteca\n",
      "Titulo: 1984\n",
      "Autor: George Orwell\n",
      "Titulo: Brave New World\n",
      "Autor: Aldous Huxley\n",
      "\n",
      "Eliminamos 1984\n",
      "Titulo: Brave New World\n",
      "Autor: Aldous Huxley\n"
     ]
    }
   ],
   "source": [
    "\n",
    "# Ejemplo de Uso\n",
    "biblioteca = Biblioteca()\n",
    "biblioteca.añadir_libro(Libro('1984', 'George Orwell'))\n",
    "biblioteca.añadir_libro(Libro('Brave New World', 'Aldous Huxley'))\n",
    "print(\"Buscamos 1984:\")\n",
    "libro = biblioteca.buscar_libro('1984')  # 1984\n",
    "print(\" \")\n",
    "print(\"Mostramos la biblioteca\")\n",
    "biblioteca.mostrar_libros()\n",
    "print(\"\")\n",
    "print(\"Eliminamos 1984\")\n",
    "biblioteca.eliminar_libro('1984')\n",
    "biblioteca.mostrar_libros()\n"
   ]
  },
  {
   "cell_type": "code",
   "execution_count": null,
   "id": "f772565f-f162-4da8-a501-7c61e30fd3b4",
   "metadata": {},
   "outputs": [],
   "source": []
  }
 ],
 "metadata": {
  "kernelspec": {
   "display_name": "Python 3 (ipykernel)",
   "language": "python",
   "name": "python3"
  },
  "language_info": {
   "codemirror_mode": {
    "name": "ipython",
    "version": 3
   },
   "file_extension": ".py",
   "mimetype": "text/x-python",
   "name": "python",
   "nbconvert_exporter": "python",
   "pygments_lexer": "ipython3",
   "version": "3.13.7"
  }
 },
 "nbformat": 4,
 "nbformat_minor": 5
}
