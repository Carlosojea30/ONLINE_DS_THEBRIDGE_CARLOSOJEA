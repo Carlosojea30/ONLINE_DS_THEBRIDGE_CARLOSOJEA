{
 "cells": [
  {
   "cell_type": "markdown",
   "id": "f51194a9-1fe0-46a0-82ca-d378efd05c10",
   "metadata": {},
   "source": [
    "# Conversión tipos"
   ]
  },
  {
   "cell_type": "code",
   "execution_count": 3,
   "id": "fbb276bb-c5c9-44f0-a2d4-67ccdf136003",
   "metadata": {},
   "outputs": [
    {
     "name": "stdout",
     "output_type": "stream",
     "text": [
      "<class 'float'>\n",
      "24\n",
      "<class 'int'>\n"
     ]
    }
   ],
   "source": [
    "num_real = 24.69\n",
    "print(type(num_real))\n",
    "\n",
    "num_entero = int(num_real)\n",
    "print(num_entero)\n",
    "print(type(num_entero))"
   ]
  },
  {
   "cell_type": "code",
   "execution_count": 6,
   "id": "de49d9ab-e4ad-465d-bc26-6ff93d337dc3",
   "metadata": {},
   "outputs": [
    {
     "name": "stdout",
     "output_type": "stream",
     "text": [
      "24.69\n"
     ]
    }
   ],
   "source": [
    "num_real = 24.686\n",
    "num_redondeado = round(num_real,2)\n",
    "print(num_redondeado)"
   ]
  },
  {
   "cell_type": "code",
   "execution_count": 8,
   "id": "229c6748-8c86-4074-9945-da00ccae0086",
   "metadata": {},
   "outputs": [
    {
     "name": "stdout",
     "output_type": "stream",
     "text": [
      "25.0\n",
      "<class 'float'>\n",
      "25\n"
     ]
    }
   ],
   "source": [
    "num_convertido = round(num_redondeado,0)\n",
    "print(num_convertido)\n",
    "print(type(num_convertido))\n",
    "print(int(num_convertido))"
   ]
  },
  {
   "cell_type": "markdown",
   "id": "9795f15d-cca8-4c48-8fed-3af31b10b30d",
   "metadata": {},
   "source": [
    "### De número a String"
   ]
  },
  {
   "cell_type": "code",
   "execution_count": 9,
   "id": "fc6fb2ae-e214-42da-ae3e-d5e9b18b5f5e",
   "metadata": {},
   "outputs": [
    {
     "name": "stdout",
     "output_type": "stream",
     "text": [
      "24.69 su tipo <class 'str'>\n",
      "12 su tipo <class 'str'>\n"
     ]
    }
   ],
   "source": [
    "num_real = 24.69\n",
    "num_entero = 12\n",
    "\n",
    "real_str = str(num_real)\n",
    "entero_str = str(num_entero)\n",
    "\n",
    "print(real_str, \"su tipo\", type(real_str))\n",
    "print(entero_str, \"su tipo\", type(entero_str))"
   ]
  },
  {
   "cell_type": "markdown",
   "id": "ca82f52f-0bc7-4fef-8c72-9af66c371c10",
   "metadata": {},
   "source": [
    "### De String a un número"
   ]
  },
  {
   "cell_type": "code",
   "execution_count": 14,
   "id": "b263cb04-26ba-4738-8fd6-32ed48319a05",
   "metadata": {},
   "outputs": [
    {
     "name": "stdout",
     "output_type": "stream",
     "text": [
      "98 <class 'str'>\n",
      "98 <class 'int'>\n"
     ]
    },
    {
     "ename": "ValueError",
     "evalue": "could not convert string to float: '98,33'",
     "output_type": "error",
     "traceback": [
      "\u001b[31m---------------------------------------------------------------------------\u001b[39m",
      "\u001b[31mValueError\u001b[39m                                Traceback (most recent call last)",
      "\u001b[36mCell\u001b[39m\u001b[36m \u001b[39m\u001b[32mIn[14]\u001b[39m\u001b[32m, line 6\u001b[39m\n\u001b[32m      4\u001b[39m \u001b[38;5;28mprint\u001b[39m(mi_entero, \u001b[38;5;28mtype\u001b[39m(mi_entero))\n\u001b[32m      5\u001b[39m mi_cadena_real = \u001b[33m\"\u001b[39m\u001b[33m98,33\u001b[39m\u001b[33m\"\u001b[39m\n\u001b[32m----> \u001b[39m\u001b[32m6\u001b[39m mi_real = \u001b[38;5;28;43mfloat\u001b[39;49m\u001b[43m(\u001b[49m\u001b[43mmi_cadena_real\u001b[49m\u001b[43m)\u001b[49m\n",
      "\u001b[31mValueError\u001b[39m: could not convert string to float: '98,33'"
     ]
    }
   ],
   "source": [
    "mi_cadena = \"98\"\n",
    "mi_entero = int(mi_cadena)\n",
    "print(mi_cadena, type(mi_cadena))\n",
    "print(mi_entero, type(mi_entero))\n",
    "mi_cadena_real = \"98,33\"\n",
    "mi_real = float(mi_cadena_real)"
   ]
  },
  {
   "cell_type": "code",
   "execution_count": 15,
   "id": "28bce8a1-367e-4bcd-8390-38d23662f54f",
   "metadata": {},
   "outputs": [
    {
     "name": "stdout",
     "output_type": "stream",
     "text": [
      "98 <class 'str'>\n",
      "98 <class 'int'>\n",
      "98.64 <class 'float'>\n"
     ]
    }
   ],
   "source": [
    "mi_cadena = \"98\"\n",
    "mi_entero = int(mi_cadena)\n",
    "print(mi_cadena, type(mi_cadena))\n",
    "print(mi_entero, type(mi_entero))\n",
    "mi_cadena_real = \"98.64\"\n",
    "mi_real = float(mi_cadena_real)\n",
    "print(mi_real, type(mi_real))"
   ]
  },
  {
   "cell_type": "markdown",
   "id": "57a4e3d6-f286-4028-a413-f48381732575",
   "metadata": {},
   "source": [
    "### De número a boleado y viceversa"
   ]
  },
  {
   "cell_type": "code",
   "execution_count": 17,
   "id": "bfb1248f-58fa-4f84-826c-e568499ec1a4",
   "metadata": {},
   "outputs": [
    {
     "name": "stdout",
     "output_type": "stream",
     "text": [
      "True <class 'bool'>\n"
     ]
    }
   ],
   "source": [
    "booleano = bool(123)\n",
    "print(booleano, type(booleano))"
   ]
  },
  {
   "cell_type": "code",
   "execution_count": 18,
   "id": "1992576d-fdfc-4684-8a68-ae1f3f28ef93",
   "metadata": {},
   "outputs": [
    {
     "name": "stdout",
     "output_type": "stream",
     "text": [
      "False <class 'bool'>\n"
     ]
    }
   ],
   "source": [
    "booleano = bool(0)\n",
    "print(booleano, type(booleano))"
   ]
  },
  {
   "cell_type": "markdown",
   "id": "8d2c549f-75c6-446f-bd19-721153a4a062",
   "metadata": {},
   "source": [
    "### De String a booleano"
   ]
  },
  {
   "cell_type": "code",
   "execution_count": 19,
   "id": "bc5f690d-04e9-469c-b1a7-f62d6248b195",
   "metadata": {},
   "outputs": [
    {
     "name": "stdout",
     "output_type": "stream",
     "text": [
      "False <class 'bool'>\n",
      "True <class 'bool'>\n"
     ]
    }
   ],
   "source": [
    "booleano = bool(\"\")\n",
    "booleano_2 = bool(\"Esto es otro tipo par la conversión\")\n",
    "print(booleano, type(booleano))\n",
    "print(booleano_2, type(booleano))"
   ]
  },
  {
   "cell_type": "markdown",
   "id": "9bf9f19a-47ce-47ac-b622-fec228f10bb2",
   "metadata": {},
   "source": [
    "#### y viceversa"
   ]
  },
  {
   "cell_type": "code",
   "execution_count": 20,
   "id": "68b0730c-8855-4116-82cd-0d6e2bf86da3",
   "metadata": {},
   "outputs": [
    {
     "name": "stdout",
     "output_type": "stream",
     "text": [
      "False True\n"
     ]
    }
   ],
   "source": [
    "bool_str = str(booleano)\n",
    "bool_2_str = str(booleano_2)\n",
    "print(bool_str, bool_2_str)"
   ]
  },
  {
   "cell_type": "code",
   "execution_count": 3,
   "id": "4260b985-ed4c-4d0f-8ba3-aa04e4dcee08",
   "metadata": {},
   "outputs": [
    {
     "ename": "ValueError",
     "evalue": "could not convert string to float: '68,34'",
     "output_type": "error",
     "traceback": [
      "\u001b[31m---------------------------------------------------------------------------\u001b[39m",
      "\u001b[31mValueError\u001b[39m                                Traceback (most recent call last)",
      "\u001b[36mCell\u001b[39m\u001b[36m \u001b[39m\u001b[32mIn[3]\u001b[39m\u001b[32m, line 2\u001b[39m\n\u001b[32m      1\u001b[39m real_str = \u001b[33m\"\u001b[39m\u001b[33m68,34\u001b[39m\u001b[33m\"\u001b[39m\n\u001b[32m----> \u001b[39m\u001b[32m2\u001b[39m real = \u001b[38;5;28;43mfloat\u001b[39;49m\u001b[43m(\u001b[49m\u001b[43mreal_str\u001b[49m\u001b[43m)\u001b[49m\n",
      "\u001b[31mValueError\u001b[39m: could not convert string to float: '68,34'"
     ]
    }
   ],
   "source": [
    "real_str = \"68,34\"\n",
    "real = float(real_str)"
   ]
  },
  {
   "cell_type": "code",
   "execution_count": 4,
   "id": "1b1542c8-b527-4b5f-98e1-162602d81141",
   "metadata": {},
   "outputs": [
    {
     "data": {
      "text/plain": [
       "'68.34'"
      ]
     },
     "execution_count": 4,
     "metadata": {},
     "output_type": "execute_result"
    }
   ],
   "source": [
    "real_str.replace(\",\",\".\")"
   ]
  },
  {
   "cell_type": "code",
   "execution_count": 6,
   "id": "ffeea2ac-63ae-43c0-a844-786a983e1c63",
   "metadata": {},
   "outputs": [
    {
     "name": "stdout",
     "output_type": "stream",
     "text": [
      "<class 'str'>\n"
     ]
    }
   ],
   "source": [
    "nuevo_str = real_str.replace(\",\",\".\")\n",
    "print(type(nuevo_str))"
   ]
  },
  {
   "cell_type": "code",
   "execution_count": 8,
   "id": "27894371-b066-4409-be79-fa667551217f",
   "metadata": {},
   "outputs": [
    {
     "name": "stdout",
     "output_type": "stream",
     "text": [
      "68.34 <class 'float'>\n"
     ]
    }
   ],
   "source": [
    "real = float(nuevo_str)\n",
    "print(real, type(real))"
   ]
  },
  {
   "cell_type": "markdown",
   "id": "9354d274-b22a-4196-83aa-fc816e61ed5e",
   "metadata": {},
   "source": [
    "## Input"
   ]
  },
  {
   "cell_type": "code",
   "execution_count": 9,
   "id": "9cb917a4-34a0-4e05-bb18-c42f932fff7c",
   "metadata": {},
   "outputs": [
    {
     "name": "stdin",
     "output_type": "stream",
     "text": [
      "Escribeme algo 98\n"
     ]
    }
   ],
   "source": [
    "primer_input = input(\"Escribeme algo\")"
   ]
  },
  {
   "cell_type": "code",
   "execution_count": 10,
   "id": "fed60868-aea7-41ac-a78f-6d90fac619a8",
   "metadata": {},
   "outputs": [
    {
     "name": "stdout",
     "output_type": "stream",
     "text": [
      "98\n"
     ]
    }
   ],
   "source": [
    "print(primer_input)"
   ]
  },
  {
   "cell_type": "code",
   "execution_count": 11,
   "id": "d7e5ccaa-54f1-4797-a72a-4b636df05858",
   "metadata": {},
   "outputs": [
    {
     "data": {
      "text/plain": [
       "str"
      ]
     },
     "execution_count": 11,
     "metadata": {},
     "output_type": "execute_result"
    }
   ],
   "source": [
    "type(primer_input)"
   ]
  },
  {
   "cell_type": "code",
   "execution_count": 13,
   "id": "629eedfb-281f-4793-a80a-14b1389cd212",
   "metadata": {},
   "outputs": [
    {
     "name": "stdin",
     "output_type": "stream",
     "text": [
      "¿Cómo te llamas? Carlos\n"
     ]
    },
    {
     "name": "stdout",
     "output_type": "stream",
     "text": [
      "Encantado de conocerte Carlos\n"
     ]
    },
    {
     "name": "stdin",
     "output_type": "stream",
     "text": [
      "¿Como estas? mal\n"
     ]
    },
    {
     "name": "stdout",
     "output_type": "stream",
     "text": [
      "Bien y tu\n"
     ]
    }
   ],
   "source": [
    "nombre = input(\"¿Cómo te llamas?\")\n",
    "print(\"Encantado de conocerte\", nombre)\n",
    "preferencias = input(\"¿Como estas?\")\n",
    "print(\"Bien y tu\")"
   ]
  },
  {
   "cell_type": "markdown",
   "id": "fbeadc42-1df2-4674-9731-e49f1a48e473",
   "metadata": {},
   "source": [
    "### None"
   ]
  },
  {
   "cell_type": "code",
   "execution_count": 14,
   "id": "d8fed54e-be3e-40e8-8903-7c87049be4da",
   "metadata": {},
   "outputs": [
    {
     "ename": "NameError",
     "evalue": "name 'none' is not defined",
     "output_type": "error",
     "traceback": [
      "\u001b[31m---------------------------------------------------------------------------\u001b[39m",
      "\u001b[31mNameError\u001b[39m                                 Traceback (most recent call last)",
      "\u001b[36mCell\u001b[39m\u001b[36m \u001b[39m\u001b[32mIn[14]\u001b[39m\u001b[32m, line 1\u001b[39m\n\u001b[32m----> \u001b[39m\u001b[32m1\u001b[39m \u001b[38;5;28mprint\u001b[39m(\u001b[43mnone\u001b[49m)\n",
      "\u001b[31mNameError\u001b[39m: name 'none' is not defined"
     ]
    }
   ],
   "source": [
    "print(none)"
   ]
  },
  {
   "cell_type": "code",
   "execution_count": 16,
   "id": "0c95951a-2397-4f1f-924a-c7dbea9f42f3",
   "metadata": {},
   "outputs": [
    {
     "data": {
      "text/plain": [
       "False"
      ]
     },
     "execution_count": 16,
     "metadata": {},
     "output_type": "execute_result"
    }
   ],
   "source": [
    "\"\" == None"
   ]
  },
  {
   "cell_type": "code",
   "execution_count": 17,
   "id": "dc8a7d5d-0a71-466e-bab6-03428ef84e3b",
   "metadata": {},
   "outputs": [
    {
     "data": {
      "text/plain": [
       "False"
      ]
     },
     "execution_count": 17,
     "metadata": {},
     "output_type": "execute_result"
    }
   ],
   "source": [
    "0 == None"
   ]
  },
  {
   "cell_type": "code",
   "execution_count": 18,
   "id": "f5f2805a-72fb-4d20-a4c7-1fa17db9c777",
   "metadata": {},
   "outputs": [
    {
     "data": {
      "text/plain": [
       "False"
      ]
     },
     "execution_count": 18,
     "metadata": {},
     "output_type": "execute_result"
    }
   ],
   "source": [
    "False == None"
   ]
  },
  {
   "cell_type": "markdown",
   "id": "97780432-fa56-4722-ae1b-607c7836493d",
   "metadata": {},
   "source": [
    "# Zen of Phyton "
   ]
  },
  {
   "cell_type": "code",
   "execution_count": 1,
   "id": "c0a62c00-64aa-4d2d-8166-76b31be1866e",
   "metadata": {},
   "outputs": [
    {
     "name": "stdout",
     "output_type": "stream",
     "text": [
      "The Zen of Python, by Tim Peters\n",
      "\n",
      "Beautiful is better than ugly.\n",
      "Explicit is better than implicit.\n",
      "Simple is better than complex.\n",
      "Complex is better than complicated.\n",
      "Flat is better than nested.\n",
      "Sparse is better than dense.\n",
      "Readability counts.\n",
      "Special cases aren't special enough to break the rules.\n",
      "Although practicality beats purity.\n",
      "Errors should never pass silently.\n",
      "Unless explicitly silenced.\n",
      "In the face of ambiguity, refuse the temptation to guess.\n",
      "There should be one-- and preferably only one --obvious way to do it.\n",
      "Although that way may not be obvious at first unless you're Dutch.\n",
      "Now is better than never.\n",
      "Although never is often better than *right* now.\n",
      "If the implementation is hard to explain, it's a bad idea.\n",
      "If the implementation is easy to explain, it may be a good idea.\n",
      "Namespaces are one honking great idea -- let's do more of those!\n"
     ]
    }
   ],
   "source": [
    "import this"
   ]
  },
  {
   "cell_type": "code",
   "execution_count": null,
   "id": "7d027dd4-500c-448f-94ce-6516cb96d6d3",
   "metadata": {},
   "outputs": [],
   "source": []
  }
 ],
 "metadata": {
  "kernelspec": {
   "display_name": "Python 3 (ipykernel)",
   "language": "python",
   "name": "python3"
  },
  "language_info": {
   "codemirror_mode": {
    "name": "ipython",
    "version": 3
   },
   "file_extension": ".py",
   "mimetype": "text/x-python",
   "name": "python",
   "nbconvert_exporter": "python",
   "pygments_lexer": "ipython3",
   "version": "3.13.7"
  }
 },
 "nbformat": 4,
 "nbformat_minor": 5
}
