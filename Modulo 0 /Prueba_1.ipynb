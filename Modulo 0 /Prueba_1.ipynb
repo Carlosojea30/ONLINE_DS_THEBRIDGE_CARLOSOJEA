{
 "cells": [
  {
   "cell_type": "markdown",
   "id": "796edd25-479c-4ed5-b226-83612d7602bb",
   "metadata": {},
   "source": [
    "# Mis primeros pasos con Markdown"
   ]
  },
  {
   "cell_type": "code",
   "execution_count": 1,
   "id": "1f7db966-32f2-4c1d-ac52-abbd2d114094",
   "metadata": {},
   "outputs": [],
   "source": [
    "# Esto es código de Python"
   ]
  },
  {
   "cell_type": "markdown",
   "id": "07a2b64f-9fb4-47ed-b0f3-94e66bc6fea2",
   "metadata": {},
   "source": [
    "# Cabecera 1\n",
    "## Cabecera 2"
   ]
  },
  {
   "cell_type": "code",
   "execution_count": 2,
   "id": "cb5cfb00-f998-4a43-a22e-384d217945bd",
   "metadata": {},
   "outputs": [],
   "source": [
    "# hasta 6"
   ]
  },
  {
   "cell_type": "markdown",
   "id": "ba356dcd-df61-4158-8b9f-37d17d9cfdc7",
   "metadata": {},
   "source": [
    "##### Cabecera 5\n",
    "###### Cabercera 6"
   ]
  },
  {
   "cell_type": "markdown",
   "id": "a838b40a-fc3d-4fb8-a458-4748d667719c",
   "metadata": {},
   "source": [
    "<h1>Header 1</h1>\n",
    "<h2>Header 2</h2>\n",
    "<h3>Header 3</h3>"
   ]
  },
  {
   "cell_type": "markdown",
   "id": "151ff09c-8dbf-4f0a-9d1d-03fdfa0ac008",
   "metadata": {},
   "source": [
    "***Hola***\n",
    "\n",
    "**Hola**  \n",
    "\n",
    "*Hola*"
   ]
  },
  {
   "cell_type": "markdown",
   "id": "464eae08-1d38-4ffc-a7ee-2d90dc1a8f31",
   "metadata": {},
   "source": [
    ">Recuerda dentista\n",
    ">>Y médico"
   ]
  },
  {
   "cell_type": "markdown",
   "id": "fb387841-a7d6-497f-bb23-608da4be4828",
   "metadata": {},
   "source": [
    "1. Pan\n",
    "2. Manzana"
   ]
  },
  {
   "cell_type": "markdown",
   "id": "c7127cb4-4c88-422f-bc45-acdf2380b757",
   "metadata": {},
   "source": [
    "* Yogur\n",
    "* Platano\n",
    "- Fanta\n"
   ]
  },
  {
   "cell_type": "markdown",
   "id": "b2d2d74d-217c-4a1e-877a-ab491d90caa8",
   "metadata": {},
   "source": [
    "```Python \n",
    "variable = \"Esto es una variable\"\n",
    "```"
   ]
  },
  {
   "cell_type": "markdown",
   "id": "0739c154-8ed3-4ace-ae62-fe141022e2ec",
   "metadata": {},
   "source": [
    "***"
   ]
  },
  {
   "cell_type": "markdown",
   "id": "df79e7ff-7c0e-4780-a3fd-68cbe63417d4",
   "metadata": {},
   "source": [
    "[enlace a google](http://www.google.es)"
   ]
  },
  {
   "cell_type": "markdown",
   "id": "0babe5a9-1fc0-4cd1-9ba4-b1716a342978",
   "metadata": {},
   "source": [
    "Resaltar: `[ enlace ](web)`"
   ]
  },
  {
   "cell_type": "markdown",
   "id": "7a162e6c-7a8e-4f39-8d30-7797dad92117",
   "metadata": {},
   "source": [
    "Si hago click en [este enlace](#Mis-primeros-pasos-con-Markdown) ,vuelvo al principio "
   ]
  },
  {
   "cell_type": "markdown",
   "id": "56642778-b458-4c40-8679-20179ac6c963",
   "metadata": {},
   "source": [
    "![esta en el mismo directorio](./error.png)"
   ]
  },
  {
   "cell_type": "markdown",
   "id": "32f1e3eb-3ffa-4bd8-8463-4d67f6eee265",
   "metadata": {},
   "source": [
    "<img src=\"./img/error.png\" width ="
   ]
  }
 ],
 "metadata": {
  "kernelspec": {
   "display_name": "Python 3 (ipykernel)",
   "language": "python",
   "name": "python3"
  },
  "language_info": {
   "codemirror_mode": {
    "name": "ipython",
    "version": 3
   },
   "file_extension": ".py",
   "mimetype": "text/x-python",
   "name": "python",
   "nbconvert_exporter": "python",
   "pygments_lexer": "ipython3",
   "version": "3.13.7"
  }
 },
 "nbformat": 4,
 "nbformat_minor": 5
}
