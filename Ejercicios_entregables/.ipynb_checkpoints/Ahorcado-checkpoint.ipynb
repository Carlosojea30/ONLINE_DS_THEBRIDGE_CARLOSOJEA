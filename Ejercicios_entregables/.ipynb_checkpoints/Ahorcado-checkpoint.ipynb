{
 "cells": [
  {
   "cell_type": "markdown",
   "id": "a421eb6a-8aaf-41b2-963d-4671dfb1f2f6",
   "metadata": {},
   "source": [
    "# Repaso ejercicio Ahorcado"
   ]
  },
  {
   "cell_type": "markdown",
   "id": "120bc8fe-acdb-4fcc-b22f-4de22fd131c6",
   "metadata": {},
   "source": [
    "#### Carlos Ojea Sánchez 06/10/2025"
   ]
  },
  {
   "cell_type": "code",
   "execution_count": null,
   "id": "cf81d32f-3563-4c77-a186-6c1f9406aba1",
   "metadata": {},
   "outputs": [],
   "source": []
  }
 ],
 "metadata": {
  "kernelspec": {
   "display_name": "Python 3 (ipykernel)",
   "language": "python",
   "name": "python3"
  },
  "language_info": {
   "codemirror_mode": {
    "name": "ipython",
    "version": 3
   },
   "file_extension": ".py",
   "mimetype": "text/x-python",
   "name": "python",
   "nbconvert_exporter": "python",
   "pygments_lexer": "ipython3",
   "version": "3.13.7"
  }
 },
 "nbformat": 4,
 "nbformat_minor": 5
}
