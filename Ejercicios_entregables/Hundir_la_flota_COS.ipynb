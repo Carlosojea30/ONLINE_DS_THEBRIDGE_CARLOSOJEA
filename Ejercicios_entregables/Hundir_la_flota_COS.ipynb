{
 "cells": [
  {
   "cell_type": "markdown",
   "id": "8bc7261c-a2be-498b-a77f-3a94f7f48026",
   "metadata": {},
   "source": [
    "# 1º ejercicio entregable: Hundir la Flota"
   ]
  },
  {
   "cell_type": "markdown",
   "id": "58d3624a-c046-4d61-9f65-169d343023b4",
   "metadata": {},
   "source": [
    "#### Carlos Ojea Sánchez 03/10/2025"
   ]
  },
  {
   "cell_type": "code",
   "execution_count": null,
   "id": "99f146a3-b6a4-4b78-92ee-5830d1a1881e",
   "metadata": {},
   "outputs": [],
   "source": []
  }
 ],
 "metadata": {
  "kernelspec": {
   "display_name": "Python 3 (ipykernel)",
   "language": "python",
   "name": "python3"
  },
  "language_info": {
   "codemirror_mode": {
    "name": "ipython",
    "version": 3
   },
   "file_extension": ".py",
   "mimetype": "text/x-python",
   "name": "python",
   "nbconvert_exporter": "python",
   "pygments_lexer": "ipython3",
   "version": "3.13.7"
  }
 },
 "nbformat": 4,
 "nbformat_minor": 5
}
