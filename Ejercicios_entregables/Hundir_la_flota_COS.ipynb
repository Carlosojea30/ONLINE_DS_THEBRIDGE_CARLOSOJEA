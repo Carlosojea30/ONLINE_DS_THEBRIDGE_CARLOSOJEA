{
 "cells": [
  {
   "cell_type": "markdown",
   "id": "8bc7261c-a2be-498b-a77f-3a94f7f48026",
   "metadata": {},
   "source": [
    "# 1º ejercicio entregable: Hundir la Flota"
   ]
  },
  {
   "cell_type": "markdown",
   "id": "58d3624a-c046-4d61-9f65-169d343023b4",
   "metadata": {},
   "source": [
    "#### Carlos Ojea Sánchez 03/10/2025"
   ]
  },
  {
   "cell_type": "code",
   "execution_count": 4,
   "id": "99f146a3-b6a4-4b78-92ee-5830d1a1881e",
   "metadata": {},
   "outputs": [
    {
     "name": "stdout",
     "output_type": "stream",
     "text": [
      "[[' ' ' ' ' ' ' ' ' ' ' ' ' ' ' ' ' ' ' ']\n",
      " [' ' ' ' ' ' ' ' ' ' ' ' ' ' ' ' ' ' ' ']\n",
      " [' ' ' ' ' ' ' ' ' ' ' ' ' ' ' ' ' ' ' ']\n",
      " [' ' ' ' ' ' ' ' ' ' ' ' ' ' ' ' ' ' ' ']\n",
      " [' ' ' ' ' ' ' ' ' ' ' ' ' ' ' ' ' ' ' ']\n",
      " [' ' ' ' ' ' ' ' ' ' ' ' ' ' ' ' ' ' ' ']\n",
      " [' ' ' ' ' ' ' ' ' ' ' ' ' ' ' ' ' ' ' ']\n",
      " [' ' ' ' ' ' ' ' ' ' ' ' ' ' ' ' ' ' ' ']\n",
      " [' ' ' ' ' ' ' ' ' ' ' ' ' ' ' ' ' ' ' ']\n",
      " [' ' ' ' ' ' ' ' ' ' ' ' ' ' ' ' ' ' ' ']]\n"
     ]
    }
   ],
   "source": [
    "import numpy as np\n",
    "import random\n",
    "\n",
    "tablero = np.full((10,10),\" \")\n",
    "print(tablero)\n",
    "\n",
    "AGUA      = \" \"   \n",
    "BARCO     = \"O\"  \n",
    "TOCADO    = \"X\"   \n",
    "AGUA_TIRO = \"-\"  \n"
   ]
  },
  {
   "cell_type": "code",
   "execution_count": 5,
   "id": "90d4b004",
   "metadata": {},
   "outputs": [],
   "source": [
    "def crea_tablero(lado = 10):\n",
    "    tablero = np.full((lado,lado),\" \")\n",
    "    return tablero"
   ]
  },
  {
   "cell_type": "code",
   "execution_count": 6,
   "id": "e5128434",
   "metadata": {},
   "outputs": [
    {
     "name": "stdout",
     "output_type": "stream",
     "text": [
      "[[' ' ' ' ' ' ' ' ' ' ' ' ' ' ' ' ' ' ' ']\n",
      " [' ' ' ' ' ' ' ' ' ' ' ' ' ' ' ' ' ' ' ']\n",
      " [' ' ' ' ' ' ' ' ' ' ' ' ' ' ' ' ' ' ' ']\n",
      " [' ' ' ' ' ' ' ' ' ' ' ' ' ' ' ' ' ' ' ']\n",
      " [' ' ' ' ' ' ' ' ' ' ' ' ' ' ' ' ' ' ' ']\n",
      " [' ' ' ' ' ' ' ' ' ' ' ' ' ' ' ' ' ' ' ']\n",
      " [' ' ' ' ' ' ' ' ' ' ' ' ' ' ' ' ' ' ' ']\n",
      " [' ' ' ' ' ' ' ' ' ' ' ' ' ' ' ' ' ' ' ']\n",
      " [' ' ' ' ' ' ' ' ' ' ' ' ' ' ' ' ' ' ' ']\n",
      " [' ' ' ' ' ' ' ' ' ' ' ' ' ' ' ' ' ' ' ']]\n"
     ]
    }
   ],
   "source": [
    "tablero = crea_tablero(10)\n",
    "print(tablero)"
   ]
  },
  {
   "cell_type": "code",
   "execution_count": 7,
   "id": "6514f977",
   "metadata": {},
   "outputs": [
    {
     "name": "stdout",
     "output_type": "stream",
     "text": [
      "[[' ' 'O' ' ' ' ' ' ' ' ' ' ' ' ' ' ' ' ']\n",
      " [' ' 'O' ' ' ' ' ' ' ' ' ' ' ' ' ' ' ' ']\n",
      " [' ' ' ' ' ' ' ' ' ' ' ' ' ' ' ' ' ' ' ']\n",
      " [' ' ' ' ' ' ' ' ' ' ' ' ' ' ' ' ' ' ' ']\n",
      " [' ' ' ' ' ' ' ' ' ' ' ' ' ' ' ' ' ' ' ']\n",
      " [' ' ' ' ' ' ' ' ' ' ' ' ' ' ' ' ' ' ' ']\n",
      " [' ' ' ' ' ' ' ' ' ' ' ' ' ' ' ' ' ' ' ']\n",
      " [' ' ' ' ' ' ' ' ' ' ' ' ' ' ' ' ' ' ' ']\n",
      " [' ' ' ' ' ' ' ' ' ' ' ' ' ' ' ' ' ' ' ']\n",
      " [' ' ' ' ' ' ' ' ' ' ' ' ' ' ' ' ' ' ' ']]\n"
     ]
    }
   ],
   "source": [
    "barco1 = [(0,1),(1,1)]\n",
    "def coloca_barco(tablero, barco):\n",
    "    for pieza in barco:\n",
    "        tablero[pieza] = BARCO\n",
    "    return tablero\n",
    "\n",
    "tablero = coloca_barco(tablero, barco1)\n",
    "print(tablero)\n"
   ]
  },
  {
   "cell_type": "code",
   "execution_count": 8,
   "id": "a813b182",
   "metadata": {},
   "outputs": [],
   "source": [
    "def disparar(casilla, tablero):\n",
    "    r, c = casilla\n",
    "    n = tablero.shape[0]\n",
    "\n",
    "    if not (0 <= r < n and 0 <= c < n):\n",
    "        print(\"Fuera del tablero\")\n",
    "        return tablero\n",
    "\n",
    "    valor = tablero[r, c]\n",
    "\n",
    "    if valor == BARCO:\n",
    "        tablero[r, c] = TOCADO\n",
    "        print(\"¡Tocado!\")\n",
    "    elif valor == AGUA:\n",
    "        tablero[r, c] = AGUA_TIRO\n",
    "        print(\"Agua...\")\n",
    "    else:\n",
    "        print(\"Ya habías disparado aquí, estate atento\")\n",
    "    return tablero"
   ]
  },
  {
   "cell_type": "code",
   "execution_count": 9,
   "id": "30a5f9bc",
   "metadata": {},
   "outputs": [
    {
     "name": "stdout",
     "output_type": "stream",
     "text": [
      "¡Tocado!\n",
      "Agua...\n",
      "[['-' 'X' ' ' ' ' ' ' ' ' ' ' ' ' ' ' ' ']\n",
      " [' ' 'O' ' ' ' ' ' ' ' ' ' ' ' ' ' ' ' ']\n",
      " [' ' ' ' ' ' ' ' ' ' ' ' ' ' ' ' ' ' ' ']\n",
      " [' ' ' ' ' ' ' ' ' ' ' ' ' ' ' ' ' ' ' ']\n",
      " [' ' ' ' ' ' ' ' ' ' ' ' ' ' ' ' ' ' ' ']\n",
      " [' ' ' ' ' ' ' ' ' ' ' ' ' ' ' ' ' ' ' ']\n",
      " [' ' ' ' ' ' ' ' ' ' ' ' ' ' ' ' ' ' ' ']\n",
      " [' ' ' ' ' ' ' ' ' ' ' ' ' ' ' ' ' ' ' ']\n",
      " [' ' ' ' ' ' ' ' ' ' ' ' ' ' ' ' ' ' ' ']\n",
      " [' ' ' ' ' ' ' ' ' ' ' ' ' ' ' ' ' ' ' ']]\n"
     ]
    }
   ],
   "source": [
    "tablero = disparar((0,1), tablero)  \n",
    "tablero = disparar((0,0), tablero)  \n",
    "print(tablero)"
   ]
  },
  {
   "cell_type": "code",
   "execution_count": 10,
   "id": "4190d891",
   "metadata": {},
   "outputs": [],
   "source": [
    "import random\n",
    "\n",
    "def crear_barco(tamaño):\n",
    "    orientacion = random.choice([\"horizontal\", \"vertical\"])  \n",
    "    N = 10  \n",
    "    \n",
    "    if orientacion == \"horizontal\":\n",
    "        fila = random.randint(0, N - 1)              \n",
    "        col_ini = random.randint(0, N - tamaño)     \n",
    "        barco = [(fila, col_ini + i) for i in range(tamaño)]  \n",
    "    else:\n",
    "        col = random.randint(0, N - 1)               \n",
    "        fila_ini = random.randint(0, N - tamaño)     \n",
    "        barco = [(fila_ini + i, col) for i in range(tamaño)]  \n",
    "    \n",
    "    return barco"
   ]
  },
  {
   "cell_type": "code",
   "execution_count": 11,
   "id": "a260b3f5",
   "metadata": {},
   "outputs": [
    {
     "name": "stdout",
     "output_type": "stream",
     "text": [
      "Coordenadas del barco: [(3, 6), (3, 7), (3, 8)]\n",
      "[[' ' ' ' ' ' ' ' ' ' ' ' ' ' ' ' ' ' ' ']\n",
      " [' ' ' ' ' ' ' ' ' ' ' ' ' ' ' ' ' ' ' ']\n",
      " [' ' ' ' ' ' ' ' ' ' ' ' ' ' ' ' ' ' ' ']\n",
      " [' ' ' ' ' ' ' ' ' ' ' ' 'O' 'O' 'O' ' ']\n",
      " [' ' ' ' ' ' ' ' ' ' ' ' ' ' ' ' ' ' ' ']\n",
      " [' ' ' ' ' ' ' ' ' ' ' ' ' ' ' ' ' ' ' ']\n",
      " [' ' ' ' ' ' ' ' ' ' ' ' ' ' ' ' ' ' ' ']\n",
      " [' ' ' ' ' ' ' ' ' ' ' ' ' ' ' ' ' ' ' ']\n",
      " [' ' ' ' ' ' ' ' ' ' ' ' ' ' ' ' ' ' ' ']\n",
      " [' ' ' ' ' ' ' ' ' ' ' ' ' ' ' ' ' ' ' ']]\n"
     ]
    }
   ],
   "source": [
    "tablero = crea_tablero(10)\n",
    "\n",
    "b = crear_barco(3)\n",
    "\n",
    "print(\"Coordenadas del barco:\", b)\n",
    "\n",
    "tablero = coloca_barco(tablero, b)\n",
    "\n",
    "print(tablero)"
   ]
  },
  {
   "cell_type": "code",
   "execution_count": 12,
   "id": "c808cdfe",
   "metadata": {},
   "outputs": [],
   "source": [
    "def colocar_barcos(tablero):\n",
    "    flota = [4, 3, 3, 2, 2, 2] \n",
    "    for tamaño in flota:\n",
    "        while True: \n",
    "            barco = crear_barco(tamaño)              \n",
    "            libre = True\n",
    "            for (r, c) in barco:\n",
    "                if tablero[r, c] != \" \":\n",
    "                    libre = False\n",
    "                    break\n",
    "            if libre:\n",
    "                tablero = coloca_barco(tablero, barco)\n",
    "                break\n",
    "    return tablero"
   ]
  },
  {
   "cell_type": "code",
   "execution_count": 13,
   "id": "a2f8a215",
   "metadata": {},
   "outputs": [
    {
     "name": "stdout",
     "output_type": "stream",
     "text": [
      "[[' ' ' ' ' ' ' ' ' ' ' ' ' ' 'O' ' ' ' ']\n",
      " [' ' ' ' ' ' ' ' ' ' ' ' ' ' 'O' ' ' ' ']\n",
      " [' ' ' ' ' ' ' ' ' ' ' ' ' ' 'O' ' ' ' ']\n",
      " [' ' 'O' 'O' ' ' ' ' ' ' ' ' ' ' ' ' ' ']\n",
      " [' ' ' ' ' ' 'O' 'O' 'O' 'O' ' ' ' ' ' ']\n",
      " [' ' ' ' ' ' 'O' ' ' ' ' ' ' ' ' ' ' ' ']\n",
      " [' ' ' ' ' ' 'O' ' ' ' ' 'O' 'O' ' ' ' ']\n",
      " [' ' ' ' ' ' 'O' ' ' ' ' ' ' ' ' ' ' ' ']\n",
      " ['O' 'O' ' ' ' ' ' ' ' ' ' ' ' ' ' ' ' ']\n",
      " [' ' ' ' ' ' ' ' ' ' ' ' ' ' ' ' ' ' ' ']]\n"
     ]
    }
   ],
   "source": [
    "tablero = crea_tablero(10)\n",
    "tablero = colocar_barcos(tablero)\n",
    "print(tablero)"
   ]
  },
  {
   "cell_type": "code",
   "execution_count": 14,
   "id": "3fa5d87b",
   "metadata": {},
   "outputs": [],
   "source": [
    "def quedan_barcos(tablero):\n",
    "    return (tablero == \"O\").any()\n",
    "\n",
    "import random\n",
    "\n",
    "def tiro_aleatorio_no_repetido(n, tiros_hechos):\n",
    "    while True:\n",
    "        r = random.randint(0, n-1)\n",
    "        c = random.randint(0, n-1)\n",
    "        if (r, c) not in tiros_hechos:\n",
    "            tiros_hechos.add((r, c))\n",
    "            return (r, c)\n",
    "\n",
    "def mostrar_tablero(tablero, ocultar_barcos=False):\n",
    "    import numpy as np\n",
    "    vis = tablero.copy()\n",
    "    if ocultar_barcos:\n",
    "        vis = vis.copy()\n",
    "        vis[vis == \"O\"] = \" \"   \n",
    "    print(vis)\n"
   ]
  },
  {
   "cell_type": "code",
   "execution_count": null,
   "id": "acc62e01",
   "metadata": {},
   "outputs": [
    {
     "name": "stdout",
     "output_type": "stream",
     "text": [
      "¡Comienza la partida!\n",
      "\n",
      "================================\n",
      "Tablero de la MÁQUINA (vista jugador)\n",
      "[[' ' ' ' ' ' ' ' ' ' ' ' ' ' ' ' ' ' ' ']\n",
      " [' ' ' ' ' ' ' ' ' ' ' ' ' ' ' ' ' ' ' ']\n",
      " [' ' ' ' ' ' ' ' ' ' ' ' ' ' ' ' ' ' ' ']\n",
      " [' ' ' ' ' ' ' ' ' ' ' ' ' ' ' ' ' ' ' ']\n",
      " [' ' ' ' ' ' ' ' ' ' ' ' ' ' ' ' ' ' ' ']\n",
      " [' ' ' ' ' ' ' ' ' ' ' ' ' ' ' ' ' ' ' ']\n",
      " [' ' ' ' ' ' ' ' ' ' ' ' ' ' ' ' ' ' ' ']\n",
      " [' ' ' ' ' ' ' ' ' ' ' ' ' ' ' ' ' ' ' ']\n",
      " [' ' ' ' ' ' ' ' ' ' ' ' ' ' ' ' ' ' ' ']\n",
      " [' ' ' ' ' ' ' ' ' ' ' ' ' ' ' ' ' ' ' ']]\n",
      "Agua...\n",
      "\n",
      "La máquina dispara a (6, 7)\n",
      "Agua...\n",
      "\n",
      "================================\n",
      "Tablero de la MÁQUINA (vista jugador)\n",
      "[[' ' ' ' ' ' ' ' ' ' ' ' ' ' ' ' ' ' ' ']\n",
      " [' ' '-' ' ' ' ' ' ' ' ' ' ' ' ' ' ' ' ']\n",
      " [' ' ' ' ' ' ' ' ' ' ' ' ' ' ' ' ' ' ' ']\n",
      " [' ' ' ' ' ' ' ' ' ' ' ' ' ' ' ' ' ' ' ']\n",
      " [' ' ' ' ' ' ' ' ' ' ' ' ' ' ' ' ' ' ' ']\n",
      " [' ' ' ' ' ' ' ' ' ' ' ' ' ' ' ' ' ' ' ']\n",
      " [' ' ' ' ' ' ' ' ' ' ' ' ' ' ' ' ' ' ' ']\n",
      " [' ' ' ' ' ' ' ' ' ' ' ' ' ' ' ' ' ' ' ']\n",
      " [' ' ' ' ' ' ' ' ' ' ' ' ' ' ' ' ' ' ' ']\n",
      " [' ' ' ' ' ' ' ' ' ' ' ' ' ' ' ' ' ' ' ']]\n",
      "Entrada no válida. Usa números 0-9.\n",
      "\n",
      "================================\n",
      "Tablero de la MÁQUINA (vista jugador)\n",
      "[[' ' ' ' ' ' ' ' ' ' ' ' ' ' ' ' ' ' ' ']\n",
      " [' ' '-' ' ' ' ' ' ' ' ' ' ' ' ' ' ' ' ']\n",
      " [' ' ' ' ' ' ' ' ' ' ' ' ' ' ' ' ' ' ' ']\n",
      " [' ' ' ' ' ' ' ' ' ' ' ' ' ' ' ' ' ' ' ']\n",
      " [' ' ' ' ' ' ' ' ' ' ' ' ' ' ' ' ' ' ' ']\n",
      " [' ' ' ' ' ' ' ' ' ' ' ' ' ' ' ' ' ' ' ']\n",
      " [' ' ' ' ' ' ' ' ' ' ' ' ' ' ' ' ' ' ' ']\n",
      " [' ' ' ' ' ' ' ' ' ' ' ' ' ' ' ' ' ' ' ']\n",
      " [' ' ' ' ' ' ' ' ' ' ' ' ' ' ' ' ' ' ' ']\n",
      " [' ' ' ' ' ' ' ' ' ' ' ' ' ' ' ' ' ' ' ']]\n",
      "Agua...\n",
      "\n",
      "La máquina dispara a (7, 1)\n",
      "Agua...\n",
      "\n",
      "================================\n",
      "Tablero de la MÁQUINA (vista jugador)\n",
      "[[' ' ' ' ' ' ' ' ' ' ' ' ' ' ' ' ' ' ' ']\n",
      " [' ' '-' ' ' ' ' ' ' ' ' ' ' ' ' ' ' ' ']\n",
      " [' ' ' ' ' ' ' ' ' ' ' ' ' ' ' ' ' ' ' ']\n",
      " [' ' ' ' ' ' '-' ' ' ' ' ' ' ' ' ' ' ' ']\n",
      " [' ' ' ' ' ' ' ' ' ' ' ' ' ' ' ' ' ' ' ']\n",
      " [' ' ' ' ' ' ' ' ' ' ' ' ' ' ' ' ' ' ' ']\n",
      " [' ' ' ' ' ' ' ' ' ' ' ' ' ' ' ' ' ' ' ']\n",
      " [' ' ' ' ' ' ' ' ' ' ' ' ' ' ' ' ' ' ' ']\n",
      " [' ' ' ' ' ' ' ' ' ' ' ' ' ' ' ' ' ' ' ']\n",
      " [' ' ' ' ' ' ' ' ' ' ' ' ' ' ' ' ' ' ' ']]\n",
      "Agua...\n",
      "\n",
      "La máquina dispara a (0, 3)\n",
      "¡Tocado!\n",
      "\n",
      "================================\n",
      "Tablero de la MÁQUINA (vista jugador)\n",
      "[[' ' ' ' ' ' ' ' ' ' ' ' ' ' ' ' ' ' ' ']\n",
      " [' ' '-' ' ' ' ' ' ' ' ' ' ' ' ' ' ' ' ']\n",
      " [' ' ' ' ' ' ' ' ' ' ' ' ' ' ' ' ' ' ' ']\n",
      " [' ' ' ' ' ' '-' ' ' ' ' ' ' ' ' ' ' ' ']\n",
      " [' ' ' ' ' ' ' ' ' ' ' ' ' ' ' ' ' ' ' ']\n",
      " [' ' ' ' ' ' ' ' ' ' ' ' ' ' ' ' ' ' ' ']\n",
      " [' ' ' ' ' ' ' ' ' ' ' ' ' ' ' ' ' ' ' ']\n",
      " [' ' ' ' ' ' ' ' ' ' ' ' '-' ' ' ' ' ' ']\n",
      " [' ' ' ' ' ' ' ' ' ' ' ' ' ' ' ' ' ' ' ']\n",
      " [' ' ' ' ' ' ' ' ' ' ' ' ' ' ' ' ' ' ' ']]\n",
      "Entrada no válida. Usa números 0-9.\n",
      "\n",
      "================================\n",
      "Tablero de la MÁQUINA (vista jugador)\n",
      "[[' ' ' ' ' ' ' ' ' ' ' ' ' ' ' ' ' ' ' ']\n",
      " [' ' '-' ' ' ' ' ' ' ' ' ' ' ' ' ' ' ' ']\n",
      " [' ' ' ' ' ' ' ' ' ' ' ' ' ' ' ' ' ' ' ']\n",
      " [' ' ' ' ' ' '-' ' ' ' ' ' ' ' ' ' ' ' ']\n",
      " [' ' ' ' ' ' ' ' ' ' ' ' ' ' ' ' ' ' ' ']\n",
      " [' ' ' ' ' ' ' ' ' ' ' ' ' ' ' ' ' ' ' ']\n",
      " [' ' ' ' ' ' ' ' ' ' ' ' ' ' ' ' ' ' ' ']\n",
      " [' ' ' ' ' ' ' ' ' ' ' ' '-' ' ' ' ' ' ']\n",
      " [' ' ' ' ' ' ' ' ' ' ' ' ' ' ' ' ' ' ' ']\n",
      " [' ' ' ' ' ' ' ' ' ' ' ' ' ' ' ' ' ' ' ']]\n",
      "Entrada no válida. Usa números 0-9.\n",
      "\n",
      "================================\n",
      "Tablero de la MÁQUINA (vista jugador)\n",
      "[[' ' ' ' ' ' ' ' ' ' ' ' ' ' ' ' ' ' ' ']\n",
      " [' ' '-' ' ' ' ' ' ' ' ' ' ' ' ' ' ' ' ']\n",
      " [' ' ' ' ' ' ' ' ' ' ' ' ' ' ' ' ' ' ' ']\n",
      " [' ' ' ' ' ' '-' ' ' ' ' ' ' ' ' ' ' ' ']\n",
      " [' ' ' ' ' ' ' ' ' ' ' ' ' ' ' ' ' ' ' ']\n",
      " [' ' ' ' ' ' ' ' ' ' ' ' ' ' ' ' ' ' ' ']\n",
      " [' ' ' ' ' ' ' ' ' ' ' ' ' ' ' ' ' ' ' ']\n",
      " [' ' ' ' ' ' ' ' ' ' ' ' '-' ' ' ' ' ' ']\n",
      " [' ' ' ' ' ' ' ' ' ' ' ' ' ' ' ' ' ' ' ']\n",
      " [' ' ' ' ' ' ' ' ' ' ' ' ' ' ' ' ' ' ' ']]\n"
     ]
    }
   ],
   "source": [
    "tiros_maquina = set()\n",
    "\n",
    "N = 10\n",
    "\n",
    "tab_maquina = crea_tablero(N)\n",
    "tab_maquina = colocar_barcos(tab_maquina)\n",
    "\n",
    "tab_jugador = crea_tablero(N)\n",
    "tab_jugador = colocar_barcos(tab_jugador)\n",
    "\n",
    "print(\"¡Comienza la partida!\")\n",
    "while True:\n",
    "    print(\"\\n================================\")\n",
    "    print(\"Tablero de la MÁQUINA (vista jugador)\")\n",
    "    mostrar_tablero(tab_maquina, ocultar_barcos=True)\n",
    "\n",
    "    try:\n",
    "        fila = int(input(\"Tu disparo - fila (0-9): \"))\n",
    "        col  = int(input(\"Tu disparo - col  (0-9): \"))\n",
    "    except ValueError:\n",
    "        print(\"Entrada no válida. Usa números 0-9.\")\n",
    "        continue\n",
    "\n",
    "    if not (0 <= fila < N and 0 <= col < N):\n",
    "        print(\"Fuera del tablero. Prueba otra vez.\")\n",
    "        continue\n",
    "\n",
    "    tab_maquina = disparar((fila, col), tab_maquina)\n",
    "\n",
    "    if not quedan_barcos(tab_maquina):\n",
    "        print(\"\\n¡Has hundido toda la flota enemiga!\")\n",
    "        print(\"Tablero de la MÁQUINA final:\")\n",
    "        mostrar_tablero(tab_maquina, ocultar_barcos=False)\n",
    "        break\n",
    "\n",
    "    r, c = tiro_aleatorio_no_repetido(N, tiros_maquina)\n",
    "    print(f\"\\nLa máquina dispara a ({r}, {c})\")\n",
    "    tab_jugador = disparar((r, c), tab_jugador)\n",
    "\n",
    "    if not quedan_barcos(tab_jugador):\n",
    "        print(\"\\nPerdiste...\")\n",
    "        print(\"Tu tablero final:\")\n",
    "        mostrar_tablero(tab_jugador, ocultar_barcos=False)\n",
    "        break"
   ]
  },
  {
   "cell_type": "code",
   "execution_count": null,
   "id": "65d4a288",
   "metadata": {},
   "outputs": [],
   "source": []
  }
 ],
 "metadata": {
  "kernelspec": {
   "display_name": "Python 3",
   "language": "python",
   "name": "python3"
  },
  "language_info": {
   "codemirror_mode": {
    "name": "ipython",
    "version": 3
   },
   "file_extension": ".py",
   "mimetype": "text/x-python",
   "name": "python",
   "nbconvert_exporter": "python",
   "pygments_lexer": "ipython3",
   "version": "3.13.7"
  }
 },
 "nbformat": 4,
 "nbformat_minor": 5
}
